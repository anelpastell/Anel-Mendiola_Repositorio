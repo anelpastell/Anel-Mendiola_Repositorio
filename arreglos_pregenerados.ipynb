{
 "cells": [
  {
   "metadata": {},
   "cell_type": "markdown",
   "source": [
    "# Arreglos pregenerados\n",
    "## arreglo de ceros"
   ],
   "id": "82fd186a4a7d1be5"
  },
  {
   "metadata": {},
   "cell_type": "code",
   "source": "# es cuando todos sus elementos son ceros, se genera con el método zeros",
   "id": "ba6c567dcff57ec9",
   "outputs": [],
   "execution_count": 1
  },
  {
   "metadata": {
    "ExecuteTime": {
     "end_time": "2024-09-23T02:56:58.269169Z",
     "start_time": "2024-09-23T02:56:57.739761Z"
    }
   },
   "cell_type": "code",
   "source": [
    "from array import array\n",
    "\n",
    "import numpy as np"
   ],
   "id": "9db291386e4e9b68",
   "outputs": [],
   "execution_count": 2
  },
  {
   "metadata": {
    "ExecuteTime": {
     "end_time": "2024-09-23T02:57:10.175789Z",
     "start_time": "2024-09-23T02:57:09.941451Z"
    }
   },
   "cell_type": "code",
   "source": "np.zeros(3)",
   "id": "5a34c3351b278a8d",
   "outputs": [
    {
     "data": {
      "text/plain": [
       "array([0., 0., 0.])"
      ]
     },
     "execution_count": 4,
     "metadata": {},
     "output_type": "execute_result"
    }
   ],
   "execution_count": 4
  },
  {
   "metadata": {
    "ExecuteTime": {
     "end_time": "2024-09-23T02:59:46.166667Z",
     "start_time": "2024-09-23T02:59:45.968329Z"
    }
   },
   "cell_type": "code",
   "source": [
    "# se pueden hacer arreglos multidimensionales\n",
    "np.zeros([3, 3])"
   ],
   "id": "cb46c73d4a1f7e12",
   "outputs": [
    {
     "data": {
      "text/plain": [
       "array([[0., 0., 0.],\n",
       "       [0., 0., 0.],\n",
       "       [0., 0., 0.]])"
      ]
     },
     "execution_count": 10,
     "metadata": {},
     "output_type": "execute_result"
    }
   ],
   "execution_count": 10
  },
  {
   "metadata": {
    "ExecuteTime": {
     "end_time": "2024-09-23T03:00:32.198117Z",
     "start_time": "2024-09-23T03:00:32.116062Z"
    }
   },
   "cell_type": "code",
   "source": "np.zeros([2, 2])",
   "id": "518481d7f6f1a3e6",
   "outputs": [
    {
     "data": {
      "text/plain": [
       "array([[0., 0.],\n",
       "       [0., 0.]])"
      ]
     },
     "execution_count": 12,
     "metadata": {},
     "output_type": "execute_result"
    }
   ],
   "execution_count": 12
  },
  {
   "metadata": {},
   "cell_type": "code",
   "outputs": [],
   "execution_count": null,
   "source": "",
   "id": "2cf6520b35fcfe96"
  },
  {
   "metadata": {},
   "cell_type": "markdown",
   "source": [
    "# arreglo de unos\n",
    "### usando el método ones"
   ],
   "id": "28817faf8065297c"
  },
  {
   "metadata": {
    "ExecuteTime": {
     "end_time": "2024-09-23T03:01:11.404091Z",
     "start_time": "2024-09-23T03:01:11.376751Z"
    }
   },
   "cell_type": "code",
   "source": "np.ones([2, 3])",
   "id": "b57259d9318ad879",
   "outputs": [
    {
     "data": {
      "text/plain": [
       "array([[1., 1., 1.],\n",
       "       [1., 1., 1.]])"
      ]
     },
     "execution_count": 14,
     "metadata": {},
     "output_type": "execute_result"
    }
   ],
   "execution_count": 14
  },
  {
   "metadata": {},
   "cell_type": "markdown",
   "source": "# arreglo de identidad",
   "id": "f8c8e88313b0a34"
  },
  {
   "metadata": {
    "ExecuteTime": {
     "end_time": "2024-09-23T03:01:49.121293Z",
     "start_time": "2024-09-23T03:01:49.040709Z"
    }
   },
   "cell_type": "code",
   "source": "np.eye(3)",
   "id": "e6b8fa1eb38db1d4",
   "outputs": [
    {
     "data": {
      "text/plain": [
       "array([[1., 0., 0.],\n",
       "       [0., 1., 0.],\n",
       "       [0., 0., 1.]])"
      ]
     },
     "execution_count": 16,
     "metadata": {},
     "output_type": "execute_result"
    }
   ],
   "execution_count": 16
  },
  {
   "metadata": {},
   "cell_type": "markdown",
   "source": "# Arreglo de rangos",
   "id": "f55dd8d37cf6a561"
  },
  {
   "metadata": {
    "ExecuteTime": {
     "end_time": "2024-09-23T03:02:32.302748Z",
     "start_time": "2024-09-23T03:02:32.253867Z"
    }
   },
   "cell_type": "code",
   "source": "list(range(4))",
   "id": "2880a1538363e1af",
   "outputs": [
    {
     "data": {
      "text/plain": [
       "[0, 1, 2, 3]"
      ]
     },
     "execution_count": 18,
     "metadata": {},
     "output_type": "execute_result"
    }
   ],
   "execution_count": 18
  },
  {
   "metadata": {
    "ExecuteTime": {
     "end_time": "2024-09-23T03:02:45.725632Z",
     "start_time": "2024-09-23T03:02:45.695300Z"
    }
   },
   "cell_type": "code",
   "source": [
    "np.arange(4)\n",
    "# rango de 0 a 4"
   ],
   "id": "9e0693e0e8d4a6d1",
   "outputs": [
    {
     "data": {
      "text/plain": [
       "array([0, 1, 2, 3])"
      ]
     },
     "execution_count": 20,
     "metadata": {},
     "output_type": "execute_result"
    }
   ],
   "execution_count": 20
  },
  {
   "metadata": {
    "ExecuteTime": {
     "end_time": "2024-09-23T03:03:03.145630Z",
     "start_time": "2024-09-23T03:03:03.096534Z"
    }
   },
   "cell_type": "code",
   "source": [
    "np.arange(4.)\n",
    "# rango con decimales"
   ],
   "id": "2323e07ece6badcf",
   "outputs": [
    {
     "data": {
      "text/plain": [
       "array([0., 1., 2., 3.])"
      ]
     },
     "execution_count": 22,
     "metadata": {},
     "output_type": "execute_result"
    }
   ],
   "execution_count": 22
  },
  {
   "metadata": {
    "ExecuteTime": {
     "end_time": "2024-09-23T03:04:05.166061Z",
     "start_time": "2024-09-23T03:04:05.082024Z"
    }
   },
   "cell_type": "code",
   "source": [
    "# rango de -3 a 3\n",
    "np.arange(-3, 3)"
   ],
   "id": "91a610c21485c8ea",
   "outputs": [
    {
     "data": {
      "text/plain": [
       "array([-3, -2, -1,  0,  1,  2])"
      ]
     },
     "execution_count": 24,
     "metadata": {},
     "output_type": "execute_result"
    }
   ],
   "execution_count": 24
  },
  {
   "metadata": {
    "ExecuteTime": {
     "end_time": "2024-09-23T03:04:33.354236Z",
     "start_time": "2024-09-23T03:04:33.333881Z"
    }
   },
   "cell_type": "code",
   "source": [
    "# rango de 20 números a partir de 0 cada 5 números\n",
    "np.arange(0, 20, 5)"
   ],
   "id": "23b64f69ad9e6f7a",
   "outputs": [
    {
     "data": {
      "text/plain": [
       "array([ 0,  5, 10, 15])"
      ]
     },
     "execution_count": 25,
     "metadata": {},
     "output_type": "execute_result"
    }
   ],
   "execution_count": 25
  }
 ],
 "metadata": {
  "kernelspec": {
   "display_name": "Python 3",
   "language": "python",
   "name": "python3"
  },
  "language_info": {
   "codemirror_mode": {
    "name": "ipython",
    "version": 2
   },
   "file_extension": ".py",
   "mimetype": "text/x-python",
   "name": "python",
   "nbconvert_exporter": "python",
   "pygments_lexer": "ipython2",
   "version": "2.7.6"
  }
 },
 "nbformat": 4,
 "nbformat_minor": 5
}
