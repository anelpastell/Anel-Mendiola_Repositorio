{
 "cells": [
  {
   "metadata": {},
   "cell_type": "markdown",
   "source": [
    "# funciones universales\n",
    "Se llaman así porque sirven para aplicar funciones matemáticas comunes en los elementos.\n",
    "Podemos encontrar:\n",
    "\n",
    "Operaciones matemáticas\n",
    "Operaciones trigonométricas\n",
    "Operaciones comparativas\n",
    "Operaciones flotantes\n",
    "Operaciones de intercambio de bits\n",
    "\n",
    "## matemáticas"
   ],
   "id": "4666ea7c94d376bc"
  },
  {
   "cell_type": "code",
   "id": "initial_id",
   "metadata": {
    "collapsed": true,
    "ExecuteTime": {
     "end_time": "2024-09-23T04:14:30.284669Z",
     "start_time": "2024-09-23T04:14:30.275405Z"
    }
   },
   "source": "import numpy as np",
   "outputs": [],
   "execution_count": 184
  },
  {
   "metadata": {
    "ExecuteTime": {
     "end_time": "2024-09-23T04:15:22.711404Z",
     "start_time": "2024-09-23T04:15:22.657745Z"
    }
   },
   "cell_type": "code",
   "source": [
    "# array de prueba\n",
    "arr1 = np.arange(1, 6)\n",
    "arr2= np.array([-3,7,3,13,0])"
   ],
   "id": "53de99d606998fd1",
   "outputs": [],
   "execution_count": 187
  },
  {
   "metadata": {
    "ExecuteTime": {
     "end_time": "2024-09-23T04:15:26.855816Z",
     "start_time": "2024-09-23T04:15:26.707623Z"
    }
   },
   "cell_type": "code",
   "source": "arr1",
   "id": "a421eb4d3b7d7437",
   "outputs": [
    {
     "data": {
      "text/plain": [
       "array([1, 2, 3, 4, 5])"
      ]
     },
     "execution_count": 188,
     "metadata": {},
     "output_type": "execute_result"
    }
   ],
   "execution_count": 188
  },
  {
   "metadata": {
    "ExecuteTime": {
     "end_time": "2024-09-23T04:15:30.533326Z",
     "start_time": "2024-09-23T04:15:30.435747Z"
    }
   },
   "cell_type": "code",
   "source": "arr2",
   "id": "8775c170c9f8ff36",
   "outputs": [
    {
     "data": {
      "text/plain": [
       "array([-3,  7,  3, 13,  0])"
      ]
     },
     "execution_count": 189,
     "metadata": {},
     "output_type": "execute_result"
    }
   ],
   "execution_count": 189
  },
  {
   "metadata": {
    "ExecuteTime": {
     "end_time": "2024-09-23T04:15:44.827128Z",
     "start_time": "2024-09-23T04:15:44.743730Z"
    }
   },
   "cell_type": "code",
   "source": [
    "# suma\n",
    "np.add(arr1,arr2)"
   ],
   "id": "6d5c29c94cb8691b",
   "outputs": [
    {
     "data": {
      "text/plain": [
       "array([-2,  9,  6, 17,  5])"
      ]
     },
     "execution_count": 190,
     "metadata": {},
     "output_type": "execute_result"
    }
   ],
   "execution_count": 190
  },
  {
   "metadata": {
    "ExecuteTime": {
     "end_time": "2024-09-23T04:16:00.494683Z",
     "start_time": "2024-09-23T04:16:00.454436Z"
    }
   },
   "cell_type": "code",
   "source": [
    "#resta\n",
    "np.subtract(arr2,arr1)"
   ],
   "id": "66cf749095e0277b",
   "outputs": [
    {
     "data": {
      "text/plain": [
       "array([-4,  5,  0,  9, -5])"
      ]
     },
     "execution_count": 191,
     "metadata": {},
     "output_type": "execute_result"
    }
   ],
   "execution_count": 191
  },
  {
   "metadata": {
    "ExecuteTime": {
     "end_time": "2024-09-23T04:16:05.224115Z",
     "start_time": "2024-09-23T04:16:05.198549Z"
    }
   },
   "cell_type": "code",
   "source": "arr1",
   "id": "181517d2efacd225",
   "outputs": [
    {
     "data": {
      "text/plain": [
       "array([1, 2, 3, 4, 5])"
      ]
     },
     "execution_count": 192,
     "metadata": {},
     "output_type": "execute_result"
    }
   ],
   "execution_count": 192
  },
  {
   "metadata": {
    "ExecuteTime": {
     "end_time": "2024-09-23T04:16:24.334267Z",
     "start_time": "2024-09-23T04:16:24.253896Z"
    }
   },
   "cell_type": "code",
   "source": [
    "# raiz cuadrada\n",
    "np.sqrt(arr1)"
   ],
   "id": "dfe7fcd74c9a2f51",
   "outputs": [
    {
     "data": {
      "text/plain": [
       "array([1.        , 1.41421356, 1.73205081, 2.        , 2.23606798])"
      ]
     },
     "execution_count": 194,
     "metadata": {},
     "output_type": "execute_result"
    }
   ],
   "execution_count": 194
  },
  {
   "metadata": {
    "ExecuteTime": {
     "end_time": "2024-09-23T04:16:39.812810Z",
     "start_time": "2024-09-23T04:16:39.731855Z"
    }
   },
   "cell_type": "code",
   "source": [
    "# potencia\n",
    "np.power(arr1,2)"
   ],
   "id": "6cdd7966517b82",
   "outputs": [
    {
     "data": {
      "text/plain": [
       "array([ 1,  4,  9, 16, 25])"
      ]
     },
     "execution_count": 196,
     "metadata": {},
     "output_type": "execute_result"
    }
   ],
   "execution_count": 196
  },
  {
   "metadata": {
    "ExecuteTime": {
     "end_time": "2024-09-23T04:16:43.372098Z",
     "start_time": "2024-09-23T04:16:43.292230Z"
    }
   },
   "cell_type": "code",
   "source": "arr1",
   "id": "48973f56efd523eb",
   "outputs": [
    {
     "data": {
      "text/plain": [
       "array([1, 2, 3, 4, 5])"
      ]
     },
     "execution_count": 197,
     "metadata": {},
     "output_type": "execute_result"
    }
   ],
   "execution_count": 197
  },
  {
   "metadata": {
    "ExecuteTime": {
     "end_time": "2024-09-23T04:16:47.773804Z",
     "start_time": "2024-09-23T04:16:47.631907Z"
    }
   },
   "cell_type": "code",
   "source": "arr2",
   "id": "946cb798525bbf09",
   "outputs": [
    {
     "data": {
      "text/plain": [
       "array([-3,  7,  3, 13,  0])"
      ]
     },
     "execution_count": 198,
     "metadata": {},
     "output_type": "execute_result"
    }
   ],
   "execution_count": 198
  },
  {
   "metadata": {
    "ExecuteTime": {
     "end_time": "2024-09-23T04:17:08.038487Z",
     "start_time": "2024-09-23T04:17:07.931041Z"
    }
   },
   "cell_type": "code",
   "source": [
    " # signo\n",
    " np.sign(arr2)"
   ],
   "id": "ed44e43299875c1a",
   "outputs": [
    {
     "data": {
      "text/plain": [
       "array([-1,  1,  1,  1,  0])"
      ]
     },
     "execution_count": 199,
     "metadata": {},
     "output_type": "execute_result"
    }
   ],
   "execution_count": 199
  },
  {
   "metadata": {},
   "cell_type": "code",
   "outputs": [],
   "execution_count": null,
   "source": "",
   "id": "80c22bf7c083d4f1"
  },
  {
   "metadata": {},
   "cell_type": "markdown",
   "source": "# trigonometricas",
   "id": "81ccea40bd9267d9"
  },
  {
   "metadata": {
    "ExecuteTime": {
     "end_time": "2024-09-23T04:17:23.688323Z",
     "start_time": "2024-09-23T04:17:23.533836Z"
    }
   },
   "cell_type": "code",
   "source": "arr1",
   "id": "1567d4bb751da593",
   "outputs": [
    {
     "data": {
      "text/plain": [
       "array([1, 2, 3, 4, 5])"
      ]
     },
     "execution_count": 200,
     "metadata": {},
     "output_type": "execute_result"
    }
   ],
   "execution_count": 200
  },
  {
   "metadata": {
    "ExecuteTime": {
     "end_time": "2024-09-23T04:17:27.371146Z",
     "start_time": "2024-09-23T04:17:27.264920Z"
    }
   },
   "cell_type": "code",
   "source": "np.pi",
   "id": "6b820cb59e2e7213",
   "outputs": [
    {
     "data": {
      "text/plain": [
       "3.141592653589793"
      ]
     },
     "execution_count": 201,
     "metadata": {},
     "output_type": "execute_result"
    }
   ],
   "execution_count": 201
  },
  {
   "metadata": {
    "ExecuteTime": {
     "end_time": "2024-09-23T04:17:38.716971Z",
     "start_time": "2024-09-23T04:17:38.529243Z"
    }
   },
   "cell_type": "code",
   "source": [
    "# seno\n",
    "np.sin(arr1)"
   ],
   "id": "ffca9f03a541548b",
   "outputs": [
    {
     "data": {
      "text/plain": [
       "array([ 0.84147098,  0.90929743,  0.14112001, -0.7568025 , -0.95892427])"
      ]
     },
     "execution_count": 202,
     "metadata": {},
     "output_type": "execute_result"
    }
   ],
   "execution_count": 202
  },
  {
   "metadata": {
    "ExecuteTime": {
     "end_time": "2024-09-23T04:18:04.414272Z",
     "start_time": "2024-09-23T04:18:04.380845Z"
    }
   },
   "cell_type": "code",
   "source": [
    "# coseno\n",
    "np.cos(arr1)"
   ],
   "id": "ca23680ee5b9e9c7",
   "outputs": [
    {
     "data": {
      "text/plain": [
       "array([ 0.54030231, -0.41614684, -0.9899925 , -0.65364362,  0.28366219])"
      ]
     },
     "execution_count": 204,
     "metadata": {},
     "output_type": "execute_result"
    }
   ],
   "execution_count": 204
  },
  {
   "metadata": {
    "ExecuteTime": {
     "end_time": "2024-09-23T04:18:18.553979Z",
     "start_time": "2024-09-23T04:18:18.513179Z"
    }
   },
   "cell_type": "code",
   "source": [
    "#tangente\n",
    "np.tan(arr1)"
   ],
   "id": "f6c0945fe9030f3a",
   "outputs": [
    {
     "data": {
      "text/plain": [
       "array([ 1.55740772, -2.18503986, -0.14254654,  1.15782128, -3.38051501])"
      ]
     },
     "execution_count": 206,
     "metadata": {},
     "output_type": "execute_result"
    }
   ],
   "execution_count": 206
  },
  {
   "metadata": {
    "ExecuteTime": {
     "end_time": "2024-09-23T04:18:34.456945Z",
     "start_time": "2024-09-23T04:18:34.326029Z"
    }
   },
   "cell_type": "code",
   "source": [
    "#grados a radianes\n",
    "np.deg2rad(arr1)"
   ],
   "id": "7c21e611315b6124",
   "outputs": [
    {
     "data": {
      "text/plain": [
       "array([0.01745329, 0.03490659, 0.05235988, 0.06981317, 0.08726646])"
      ]
     },
     "execution_count": 208,
     "metadata": {},
     "output_type": "execute_result"
    }
   ],
   "execution_count": 208
  },
  {
   "metadata": {
    "ExecuteTime": {
     "end_time": "2024-09-23T04:18:52.202741Z",
     "start_time": "2024-09-23T04:18:52.127705Z"
    }
   },
   "cell_type": "code",
   "source": [
    "# radianes a grados\n",
    "np.rad2deg(arr1)"
   ],
   "id": "2cb4f8165614be55",
   "outputs": [
    {
     "data": {
      "text/plain": [
       "array([ 57.29577951, 114.59155903, 171.88733854, 229.18311805,\n",
       "       286.47889757])"
      ]
     },
     "execution_count": 210,
     "metadata": {},
     "output_type": "execute_result"
    }
   ],
   "execution_count": 210
  },
  {
   "metadata": {},
   "cell_type": "code",
   "outputs": [],
   "execution_count": null,
   "source": "",
   "id": "346975f6a9dcc234"
  },
  {
   "metadata": {},
   "cell_type": "markdown",
   "source": "# comparativas",
   "id": "70642df9a5c25b2"
  },
  {
   "metadata": {
    "ExecuteTime": {
     "end_time": "2024-09-23T04:19:27.507943Z",
     "start_time": "2024-09-23T04:19:27.425044Z"
    }
   },
   "cell_type": "code",
   "source": [
    "def convert_grad_2_radians(param1: int, param2: np.array, **kwards):\n",
    "    \"\"\"\n",
    "    description of the function\n",
    "    params:\n",
    "    param1: int what is used for\n",
    "    param2: int what is used for\n",
    "    kwards: contains list of params to be used for the model\n",
    "    outputs:\n",
    "    \n",
    "    \"\"\"\n",
    "    pass"
   ],
   "id": "efefdf755ee27cb4",
   "outputs": [],
   "execution_count": 212
  },
  {
   "metadata": {
    "ExecuteTime": {
     "end_time": "2024-09-23T04:19:32.096135Z",
     "start_time": "2024-09-23T04:19:31.998142Z"
    }
   },
   "cell_type": "code",
   "source": "arr1, arr2",
   "id": "707407e846abdced",
   "outputs": [
    {
     "data": {
      "text/plain": [
       "(array([1, 2, 3, 4, 5]), array([-3,  7,  3, 13,  0]))"
      ]
     },
     "execution_count": 213,
     "metadata": {},
     "output_type": "execute_result"
    }
   ],
   "execution_count": 213
  },
  {
   "metadata": {
    "ExecuteTime": {
     "end_time": "2024-09-23T04:19:50.285832Z",
     "start_time": "2024-09-23T04:19:50.221976Z"
    }
   },
   "cell_type": "code",
   "source": [
    "# maximo\n",
    "np.maximum(arr1, arr2)"
   ],
   "id": "9593ba08d0600d5d",
   "outputs": [
    {
     "data": {
      "text/plain": [
       "array([ 1,  7,  3, 13,  5])"
      ]
     },
     "execution_count": 215,
     "metadata": {},
     "output_type": "execute_result"
    }
   ],
   "execution_count": 215
  },
  {
   "metadata": {
    "ExecuteTime": {
     "end_time": "2024-09-23T04:20:02.211377Z",
     "start_time": "2024-09-23T04:20:02.125873Z"
    }
   },
   "cell_type": "code",
   "source": [
    "# inimo\n",
    "np.minimum(arr1, arr2)"
   ],
   "id": "dc3f6c1496005ba",
   "outputs": [
    {
     "data": {
      "text/plain": [
       "array([-3,  2,  3,  4,  0])"
      ]
     },
     "execution_count": 217,
     "metadata": {},
     "output_type": "execute_result"
    }
   ],
   "execution_count": 217
  },
  {
   "metadata": {
    "ExecuteTime": {
     "end_time": "2024-09-23T04:20:14.760245Z",
     "start_time": "2024-09-23T04:20:14.703659Z"
    }
   },
   "cell_type": "code",
   "source": [
    "#igual que\n",
    "np.equal(arr1, arr2)"
   ],
   "id": "c0480f427b63cdae",
   "outputs": [
    {
     "data": {
      "text/plain": [
       "array([False, False,  True, False, False])"
      ]
     },
     "execution_count": 219,
     "metadata": {},
     "output_type": "execute_result"
    }
   ],
   "execution_count": 219
  },
  {
   "metadata": {
    "ExecuteTime": {
     "end_time": "2024-09-23T04:20:23.768458Z",
     "start_time": "2024-09-23T04:20:23.699534Z"
    }
   },
   "cell_type": "code",
   "source": "arr1, arr2",
   "id": "42f2028099ddc60b",
   "outputs": [
    {
     "data": {
      "text/plain": [
       "(array([1, 2, 3, 4, 5]), array([-3,  7,  3, 13,  0]))"
      ]
     },
     "execution_count": 220,
     "metadata": {},
     "output_type": "execute_result"
    }
   ],
   "execution_count": 220
  },
  {
   "metadata": {},
   "cell_type": "code",
   "outputs": [],
   "execution_count": null,
   "source": "",
   "id": "f92be5a855fcaaab"
  },
  {
   "metadata": {},
   "cell_type": "markdown",
   "source": "# flotantes",
   "id": "4e2100912963b0a5"
  },
  {
   "metadata": {
    "ExecuteTime": {
     "end_time": "2024-09-23T04:21:27.806112Z",
     "start_time": "2024-09-23T04:21:27.738073Z"
    }
   },
   "cell_type": "code",
   "source": [
    "# tercer array de prueba\n",
    "arr3= np.array([3.14, 2.44, -6.3, 0.3472, 43.3])\n"
   ],
   "id": "f65086a73384cae6",
   "outputs": [],
   "execution_count": 223
  },
  {
   "metadata": {
    "ExecuteTime": {
     "end_time": "2024-09-23T04:21:28.844494Z",
     "start_time": "2024-09-23T04:21:28.788263Z"
    }
   },
   "cell_type": "code",
   "source": [
    "# valor absoluto\n",
    "np.fabs(arr3)"
   ],
   "id": "b6a2068291e62936",
   "outputs": [
    {
     "data": {
      "text/plain": [
       "array([ 3.14  ,  2.44  ,  6.3   ,  0.3472, 43.3   ])"
      ]
     },
     "execution_count": 224,
     "metadata": {},
     "output_type": "execute_result"
    }
   ],
   "execution_count": 224
  },
  {
   "metadata": {
    "ExecuteTime": {
     "end_time": "2024-09-23T04:21:57.400302Z",
     "start_time": "2024-09-23T04:21:57.349931Z"
    }
   },
   "cell_type": "code",
   "source": [
    "# techo -> redondeo hacia arriba\n",
    "np.ceil(arr3)"
   ],
   "id": "d72cc1d0c58a36bc",
   "outputs": [
    {
     "data": {
      "text/plain": [
       "array([ 4.,  3., -6.,  1., 44.])"
      ]
     },
     "execution_count": 226,
     "metadata": {},
     "output_type": "execute_result"
    }
   ],
   "execution_count": 226
  },
  {
   "metadata": {
    "ExecuteTime": {
     "end_time": "2024-09-23T04:22:09.969985Z",
     "start_time": "2024-09-23T04:22:09.876460Z"
    }
   },
   "cell_type": "code",
   "source": [
    "# suelo -> redondeo hacia abajo\n",
    "np.floor(arr3)"
   ],
   "id": "67eb553d47491e9a",
   "outputs": [
    {
     "data": {
      "text/plain": [
       "array([ 3.,  2., -7.,  0., 43.])"
      ]
     },
     "execution_count": 227,
     "metadata": {},
     "output_type": "execute_result"
    }
   ],
   "execution_count": 227
  }
 ],
 "metadata": {
  "kernelspec": {
   "display_name": "Python 3",
   "language": "python",
   "name": "python3"
  },
  "language_info": {
   "codemirror_mode": {
    "name": "ipython",
    "version": 2
   },
   "file_extension": ".py",
   "mimetype": "text/x-python",
   "name": "python",
   "nbconvert_exporter": "python",
   "pygments_lexer": "ipython2",
   "version": "2.7.6"
  }
 },
 "nbformat": 4,
 "nbformat_minor": 5
}
