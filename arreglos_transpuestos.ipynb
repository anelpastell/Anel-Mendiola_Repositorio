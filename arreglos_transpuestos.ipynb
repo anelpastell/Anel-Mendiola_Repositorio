{
 "cells": [
  {
   "metadata": {},
   "cell_type": "markdown",
   "source": [
    "# arrays transpuestos\n",
    "Un array transpuesto es el reflejo de otro, de manera que las columnas se vuelven filas y las filas columna."
   ],
   "id": "f6049a55804232db"
  },
  {
   "cell_type": "code",
   "id": "initial_id",
   "metadata": {
    "collapsed": true,
    "ExecuteTime": {
     "end_time": "2024-09-23T04:07:06.574044Z",
     "start_time": "2024-09-23T04:07:06.562935Z"
    }
   },
   "source": "import numpy as np",
   "outputs": [],
   "execution_count": 167
  },
  {
   "metadata": {
    "ExecuteTime": {
     "end_time": "2024-09-23T04:07:27.729893Z",
     "start_time": "2024-09-23T04:07:27.701261Z"
    }
   },
   "cell_type": "code",
   "source": "arr= np.array([[1, 2, 3], [4, 5, 6]])",
   "id": "263d7c3847c018c",
   "outputs": [],
   "execution_count": 168
  },
  {
   "metadata": {
    "ExecuteTime": {
     "end_time": "2024-09-23T04:07:31.525694Z",
     "start_time": "2024-09-23T04:07:31.500729Z"
    }
   },
   "cell_type": "code",
   "source": "arr",
   "id": "7776e27ae52dcfa8",
   "outputs": [
    {
     "data": {
      "text/plain": [
       "array([[1, 2, 3],\n",
       "       [4, 5, 6]])"
      ]
     },
     "execution_count": 169,
     "metadata": {},
     "output_type": "execute_result"
    }
   ],
   "execution_count": 169
  },
  {
   "metadata": {
    "ExecuteTime": {
     "end_time": "2024-09-23T04:07:39.199807Z",
     "start_time": "2024-09-23T04:07:38.984733Z"
    }
   },
   "cell_type": "code",
   "source": "arr.T",
   "id": "5d1460d66277195a",
   "outputs": [
    {
     "data": {
      "text/plain": [
       "array([[1, 4],\n",
       "       [2, 5],\n",
       "       [3, 6]])"
      ]
     },
     "execution_count": 170,
     "metadata": {},
     "output_type": "execute_result"
    }
   ],
   "execution_count": 170
  },
  {
   "metadata": {
    "ExecuteTime": {
     "end_time": "2024-09-23T04:08:29.205798Z",
     "start_time": "2024-09-23T04:08:29.127864Z"
    }
   },
   "cell_type": "code",
   "source": "arr.T.T",
   "id": "c1bf997223de8614",
   "outputs": [
    {
     "data": {
      "text/plain": [
       "array([[1, 2, 3],\n",
       "       [4, 5, 6]])"
      ]
     },
     "execution_count": 171,
     "metadata": {},
     "output_type": "execute_result"
    }
   ],
   "execution_count": 171
  },
  {
   "metadata": {
    "ExecuteTime": {
     "end_time": "2024-09-23T04:09:36.444056Z",
     "start_time": "2024-09-23T04:09:36.381469Z"
    }
   },
   "cell_type": "code",
   "source": [
    "#La función swapaxes sirve para intercambiar la posición de los dos ejes de un array, así que sirve para lo mismo:\n",
    "\n",
    "# intercambiar filas x columnas\n",
    "arr.swapaxes(0,1)"
   ],
   "id": "912c808c3bf2d6cd",
   "outputs": [
    {
     "data": {
      "text/plain": [
       "array([[1, 4],\n",
       "       [2, 5],\n",
       "       [3, 6]])"
      ]
     },
     "execution_count": 172,
     "metadata": {},
     "output_type": "execute_result"
    }
   ],
   "execution_count": 172
  },
  {
   "metadata": {
    "ExecuteTime": {
     "end_time": "2024-09-23T04:10:04.945165Z",
     "start_time": "2024-09-23T04:10:04.887677Z"
    }
   },
   "cell_type": "code",
   "source": [
    "# podemos encontrar el array transpuesto de un array de 3 o más dimensiones\n",
    "arr3d= np.arange(8)"
   ],
   "id": "4c95395661cb872a",
   "outputs": [],
   "execution_count": 174
  },
  {
   "metadata": {
    "ExecuteTime": {
     "end_time": "2024-09-23T04:10:07.070152Z",
     "start_time": "2024-09-23T04:10:06.924052Z"
    }
   },
   "cell_type": "code",
   "source": "arr3d",
   "id": "a373b183a598a556",
   "outputs": [
    {
     "data": {
      "text/plain": [
       "array([0, 1, 2, 3, 4, 5, 6, 7])"
      ]
     },
     "execution_count": 175,
     "metadata": {},
     "output_type": "execute_result"
    }
   ],
   "execution_count": 175
  },
  {
   "metadata": {
    "ExecuteTime": {
     "end_time": "2024-09-23T04:10:37.463276Z",
     "start_time": "2024-09-23T04:10:37.421573Z"
    }
   },
   "cell_type": "code",
   "source": [
    "arr3d= arr3d.reshape(2, 2, 2)\n",
    "arr3d"
   ],
   "id": "5a5b7815b29c8912",
   "outputs": [
    {
     "data": {
      "text/plain": [
       "array([[[0, 1],\n",
       "        [2, 3]],\n",
       "\n",
       "       [[4, 5],\n",
       "        [6, 7]]])"
      ]
     },
     "execution_count": 176,
     "metadata": {},
     "output_type": "execute_result"
    }
   ],
   "execution_count": 176
  },
  {
   "metadata": {
    "ExecuteTime": {
     "end_time": "2024-09-23T04:11:56.174536Z",
     "start_time": "2024-09-23T04:11:55.832158Z"
    }
   },
   "cell_type": "code",
   "source": "arr3d.T",
   "id": "2def2de4b8bd36e7",
   "outputs": [
    {
     "data": {
      "text/plain": [
       "array([[[0, 4],\n",
       "        [2, 6]],\n",
       "\n",
       "       [[1, 5],\n",
       "        [3, 7]]])"
      ]
     },
     "execution_count": 180,
     "metadata": {},
     "output_type": "execute_result"
    }
   ],
   "execution_count": 180
  },
  {
   "metadata": {
    "ExecuteTime": {
     "end_time": "2024-09-23T04:12:23.643414Z",
     "start_time": "2024-09-23T04:12:23.567442Z"
    }
   },
   "cell_type": "code",
   "source": [
    "# intercambiar los ejes con swapaxes, por ejemplo la primera dimensión por la tercera, que en nuestro caso sería equivalente al array transpuesto:\n",
    "\n",
    "arr3d.swapaxes(0,2)"
   ],
   "id": "dce42972639b10a9",
   "outputs": [
    {
     "data": {
      "text/plain": [
       "array([[[0, 4],\n",
       "        [2, 6]],\n",
       "\n",
       "       [[1, 5],\n",
       "        [3, 7]]])"
      ]
     },
     "execution_count": 182,
     "metadata": {},
     "output_type": "execute_result"
    }
   ],
   "execution_count": 182
  },
  {
   "metadata": {
    "ExecuteTime": {
     "end_time": "2024-09-23T04:12:57.863128Z",
     "start_time": "2024-09-23T04:12:57.831541Z"
    }
   },
   "cell_type": "code",
   "source": [
    "# no sería equivalente intercambiar la primera x la segunda\n",
    "arr3d.swapaxes(0,1)"
   ],
   "id": "2e3fd1a9d369b582",
   "outputs": [
    {
     "data": {
      "text/plain": [
       "array([[[0, 1],\n",
       "        [4, 5]],\n",
       "\n",
       "       [[2, 3],\n",
       "        [6, 7]]])"
      ]
     },
     "execution_count": 183,
     "metadata": {},
     "output_type": "execute_result"
    }
   ],
   "execution_count": 183
  }
 ],
 "metadata": {
  "kernelspec": {
   "display_name": "Python 3",
   "language": "python",
   "name": "python3"
  },
  "language_info": {
   "codemirror_mode": {
    "name": "ipython",
    "version": 2
   },
   "file_extension": ".py",
   "mimetype": "text/x-python",
   "name": "python",
   "nbconvert_exporter": "python",
   "pygments_lexer": "ipython2",
   "version": "2.7.6"
  }
 },
 "nbformat": 4,
 "nbformat_minor": 5
}
