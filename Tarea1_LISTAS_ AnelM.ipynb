{
 "cells": [
  {
   "cell_type": "code",
   "execution_count": null,
   "id": "initial_id",
   "metadata": {
    "collapsed": true
   },
   "outputs": [],
   "source": [
    "### Tarea listas\n",
    "\n",
    "lista1 = [\"pastel\", \"naranja\", \"rosa\", \"café\"]\n",
    "print(lista1)\n",
    "\n",
    "lista1.append(\"payaso\")\n",
    "print(lista1)\n",
    "\n",
    "lista1.extend(\"jirafa\")\n",
    "print(lista1)\n",
    "\n",
    "lista1.insert(0,\"vaca\")\n",
    "print(lista1)\n",
    "\n",
    "lista1.remove(\"vaca\")\n",
    "print(lista1)\n",
    "\n",
    "lista1.pop(-3)\n",
    "\n",
    "lista1.clear()\n",
    "\n",
    "lista2 = [\"conejo\", \"rosa\", \"foca\", \"blanco\"]\n",
    "\n",
    "lista2.index(\"conejo\")\n",
    "\n",
    "lista2.count(2)\n",
    "\n",
    "lista2.sort(*, key= None, reverse= False)\n",
    "\n",
    "lista2.reverse()\n",
    "\n",
    "lista2.copy()\n",
    "\n"
   ]
  },
  {
   "metadata": {
    "ExecuteTime": {
     "end_time": "2024-09-23T23:28:19.425529Z",
     "start_time": "2024-09-23T23:28:18.918296Z"
    }
   },
   "cell_type": "code",
   "source": "import matplotlib.pyplot as plt",
   "id": "7b5f16a8297933ff",
   "outputs": [
    {
     "ename": "ImportError",
     "evalue": "DLL load failed while importing _cext: No se puede encontrar el módulo especificado.",
     "output_type": "error",
     "traceback": [
      "\u001B[1;31m---------------------------------------------------------------------------\u001B[0m",
      "\u001B[1;31mImportError\u001B[0m                               Traceback (most recent call last)",
      "Cell \u001B[1;32mIn[2], line 1\u001B[0m\n\u001B[1;32m----> 1\u001B[0m \u001B[38;5;28;01mimport\u001B[39;00m \u001B[38;5;21;01mmatplotlib\u001B[39;00m\u001B[38;5;21;01m.\u001B[39;00m\u001B[38;5;21;01mpyplot\u001B[39;00m \u001B[38;5;28;01mas\u001B[39;00m \u001B[38;5;21;01mplt\u001B[39;00m\n",
      "File \u001B[1;32m~\\PycharmProjects\\Neuro2025\\.venv\\Lib\\site-packages\\matplotlib\\__init__.py:263\u001B[0m\n\u001B[0;32m    258\u001B[0m         \u001B[38;5;28;01mif\u001B[39;00m parse_version(module\u001B[38;5;241m.\u001B[39m__version__) \u001B[38;5;241m<\u001B[39m parse_version(minver):\n\u001B[0;32m    259\u001B[0m             \u001B[38;5;28;01mraise\u001B[39;00m \u001B[38;5;167;01mImportError\u001B[39;00m(\u001B[38;5;124mf\u001B[39m\u001B[38;5;124m\"\u001B[39m\u001B[38;5;124mMatplotlib requires \u001B[39m\u001B[38;5;132;01m{\u001B[39;00mmodname\u001B[38;5;132;01m}\u001B[39;00m\u001B[38;5;124m>=\u001B[39m\u001B[38;5;132;01m{\u001B[39;00mminver\u001B[38;5;132;01m}\u001B[39;00m\u001B[38;5;124m; \u001B[39m\u001B[38;5;124m\"\u001B[39m\n\u001B[0;32m    260\u001B[0m                               \u001B[38;5;124mf\u001B[39m\u001B[38;5;124m\"\u001B[39m\u001B[38;5;124myou have \u001B[39m\u001B[38;5;132;01m{\u001B[39;00mmodule\u001B[38;5;241m.\u001B[39m__version__\u001B[38;5;132;01m}\u001B[39;00m\u001B[38;5;124m\"\u001B[39m)\n\u001B[1;32m--> 263\u001B[0m \u001B[43m_check_versions\u001B[49m\u001B[43m(\u001B[49m\u001B[43m)\u001B[49m\n\u001B[0;32m    266\u001B[0m \u001B[38;5;66;03m# The decorator ensures this always returns the same handler (and it is only\u001B[39;00m\n\u001B[0;32m    267\u001B[0m \u001B[38;5;66;03m# attached once).\u001B[39;00m\n\u001B[0;32m    268\u001B[0m \u001B[38;5;129m@functools\u001B[39m\u001B[38;5;241m.\u001B[39mcache\n\u001B[0;32m    269\u001B[0m \u001B[38;5;28;01mdef\u001B[39;00m \u001B[38;5;21m_ensure_handler\u001B[39m():\n",
      "File \u001B[1;32m~\\PycharmProjects\\Neuro2025\\.venv\\Lib\\site-packages\\matplotlib\\__init__.py:257\u001B[0m, in \u001B[0;36m_check_versions\u001B[1;34m()\u001B[0m\n\u001B[0;32m    248\u001B[0m \u001B[38;5;28;01mfrom\u001B[39;00m \u001B[38;5;21;01m.\u001B[39;00m \u001B[38;5;28;01mimport\u001B[39;00m ft2font  \u001B[38;5;66;03m# noqa: F401\u001B[39;00m\n\u001B[0;32m    250\u001B[0m \u001B[38;5;28;01mfor\u001B[39;00m modname, minver \u001B[38;5;129;01min\u001B[39;00m [\n\u001B[0;32m    251\u001B[0m         (\u001B[38;5;124m\"\u001B[39m\u001B[38;5;124mcycler\u001B[39m\u001B[38;5;124m\"\u001B[39m, \u001B[38;5;124m\"\u001B[39m\u001B[38;5;124m0.10\u001B[39m\u001B[38;5;124m\"\u001B[39m),\n\u001B[0;32m    252\u001B[0m         (\u001B[38;5;124m\"\u001B[39m\u001B[38;5;124mdateutil\u001B[39m\u001B[38;5;124m\"\u001B[39m, \u001B[38;5;124m\"\u001B[39m\u001B[38;5;124m2.7\u001B[39m\u001B[38;5;124m\"\u001B[39m),\n\u001B[1;32m   (...)\u001B[0m\n\u001B[0;32m    255\u001B[0m         (\u001B[38;5;124m\"\u001B[39m\u001B[38;5;124mpyparsing\u001B[39m\u001B[38;5;124m\"\u001B[39m, \u001B[38;5;124m\"\u001B[39m\u001B[38;5;124m2.3.1\u001B[39m\u001B[38;5;124m\"\u001B[39m),\n\u001B[0;32m    256\u001B[0m ]:\n\u001B[1;32m--> 257\u001B[0m     module \u001B[38;5;241m=\u001B[39m \u001B[43mimportlib\u001B[49m\u001B[38;5;241;43m.\u001B[39;49m\u001B[43mimport_module\u001B[49m\u001B[43m(\u001B[49m\u001B[43mmodname\u001B[49m\u001B[43m)\u001B[49m\n\u001B[0;32m    258\u001B[0m     \u001B[38;5;28;01mif\u001B[39;00m parse_version(module\u001B[38;5;241m.\u001B[39m__version__) \u001B[38;5;241m<\u001B[39m parse_version(minver):\n\u001B[0;32m    259\u001B[0m         \u001B[38;5;28;01mraise\u001B[39;00m \u001B[38;5;167;01mImportError\u001B[39;00m(\u001B[38;5;124mf\u001B[39m\u001B[38;5;124m\"\u001B[39m\u001B[38;5;124mMatplotlib requires \u001B[39m\u001B[38;5;132;01m{\u001B[39;00mmodname\u001B[38;5;132;01m}\u001B[39;00m\u001B[38;5;124m>=\u001B[39m\u001B[38;5;132;01m{\u001B[39;00mminver\u001B[38;5;132;01m}\u001B[39;00m\u001B[38;5;124m; \u001B[39m\u001B[38;5;124m\"\u001B[39m\n\u001B[0;32m    260\u001B[0m                           \u001B[38;5;124mf\u001B[39m\u001B[38;5;124m\"\u001B[39m\u001B[38;5;124myou have \u001B[39m\u001B[38;5;132;01m{\u001B[39;00mmodule\u001B[38;5;241m.\u001B[39m__version__\u001B[38;5;132;01m}\u001B[39;00m\u001B[38;5;124m\"\u001B[39m)\n",
      "File \u001B[1;32mC:\\Program Files\\WindowsApps\\PythonSoftwareFoundation.Python.3.12_3.12.1776.0_x64__qbz5n2kfra8p0\\Lib\\importlib\\__init__.py:90\u001B[0m, in \u001B[0;36mimport_module\u001B[1;34m(name, package)\u001B[0m\n\u001B[0;32m     88\u001B[0m             \u001B[38;5;28;01mbreak\u001B[39;00m\n\u001B[0;32m     89\u001B[0m         level \u001B[38;5;241m+\u001B[39m\u001B[38;5;241m=\u001B[39m \u001B[38;5;241m1\u001B[39m\n\u001B[1;32m---> 90\u001B[0m \u001B[38;5;28;01mreturn\u001B[39;00m \u001B[43m_bootstrap\u001B[49m\u001B[38;5;241;43m.\u001B[39;49m\u001B[43m_gcd_import\u001B[49m\u001B[43m(\u001B[49m\u001B[43mname\u001B[49m\u001B[43m[\u001B[49m\u001B[43mlevel\u001B[49m\u001B[43m:\u001B[49m\u001B[43m]\u001B[49m\u001B[43m,\u001B[49m\u001B[43m \u001B[49m\u001B[43mpackage\u001B[49m\u001B[43m,\u001B[49m\u001B[43m \u001B[49m\u001B[43mlevel\u001B[49m\u001B[43m)\u001B[49m\n",
      "File \u001B[1;32m~\\PycharmProjects\\Neuro2025\\.venv\\Lib\\site-packages\\kiwisolver\\__init__.py:8\u001B[0m\n\u001B[0;32m      1\u001B[0m \u001B[38;5;66;03m# --------------------------------------------------------------------------------------\u001B[39;00m\n\u001B[0;32m      2\u001B[0m \u001B[38;5;66;03m# Copyright (c) 2013-2024, Nucleic Development Team.\u001B[39;00m\n\u001B[0;32m      3\u001B[0m \u001B[38;5;66;03m#\u001B[39;00m\n\u001B[1;32m   (...)\u001B[0m\n\u001B[0;32m      6\u001B[0m \u001B[38;5;66;03m# The full license is in the file LICENSE, distributed with this software.\u001B[39;00m\n\u001B[0;32m      7\u001B[0m \u001B[38;5;66;03m# --------------------------------------------------------------------------------------\u001B[39;00m\n\u001B[1;32m----> 8\u001B[0m \u001B[38;5;28;01mfrom\u001B[39;00m \u001B[38;5;21;01m.\u001B[39;00m\u001B[38;5;21;01m_cext\u001B[39;00m \u001B[38;5;28;01mimport\u001B[39;00m (\n\u001B[0;32m      9\u001B[0m     Constraint,\n\u001B[0;32m     10\u001B[0m     Expression,\n\u001B[0;32m     11\u001B[0m     Solver,\n\u001B[0;32m     12\u001B[0m     Term,\n\u001B[0;32m     13\u001B[0m     Variable,\n\u001B[0;32m     14\u001B[0m     __kiwi_version__,\n\u001B[0;32m     15\u001B[0m     __version__,\n\u001B[0;32m     16\u001B[0m     strength,\n\u001B[0;32m     17\u001B[0m )\n\u001B[0;32m     18\u001B[0m \u001B[38;5;28;01mfrom\u001B[39;00m \u001B[38;5;21;01m.\u001B[39;00m\u001B[38;5;21;01mexceptions\u001B[39;00m \u001B[38;5;28;01mimport\u001B[39;00m (\n\u001B[0;32m     19\u001B[0m     BadRequiredStrength,\n\u001B[0;32m     20\u001B[0m     DuplicateConstraint,\n\u001B[1;32m   (...)\u001B[0m\n\u001B[0;32m     24\u001B[0m     UnsatisfiableConstraint,\n\u001B[0;32m     25\u001B[0m )\n\u001B[0;32m     27\u001B[0m __all__ \u001B[38;5;241m=\u001B[39m [\n\u001B[0;32m     28\u001B[0m     \u001B[38;5;124m\"\u001B[39m\u001B[38;5;124mBadRequiredStrength\u001B[39m\u001B[38;5;124m\"\u001B[39m,\n\u001B[0;32m     29\u001B[0m     \u001B[38;5;124m\"\u001B[39m\u001B[38;5;124mDuplicateConstraint\u001B[39m\u001B[38;5;124m\"\u001B[39m,\n\u001B[1;32m   (...)\u001B[0m\n\u001B[0;32m     41\u001B[0m     \u001B[38;5;124m\"\u001B[39m\u001B[38;5;124m__kiwi_version__\u001B[39m\u001B[38;5;124m\"\u001B[39m,\n\u001B[0;32m     42\u001B[0m ]\n",
      "\u001B[1;31mImportError\u001B[0m: DLL load failed while importing _cext: No se puede encontrar el módulo especificado."
     ]
    }
   ],
   "execution_count": 2
  },
  {
   "metadata": {},
   "cell_type": "code",
   "outputs": [],
   "execution_count": null,
   "source": "",
   "id": "a115112ef3dc891e"
  }
 ],
 "metadata": {
  "kernelspec": {
   "display_name": "Python 3",
   "language": "python",
   "name": "python3"
  },
  "language_info": {
   "codemirror_mode": {
    "name": "ipython",
    "version": 2
   },
   "file_extension": ".py",
   "mimetype": "text/x-python",
   "name": "python",
   "nbconvert_exporter": "python",
   "pygments_lexer": "ipython2",
   "version": "2.7.6"
  }
 },
 "nbformat": 4,
 "nbformat_minor": 5
}
