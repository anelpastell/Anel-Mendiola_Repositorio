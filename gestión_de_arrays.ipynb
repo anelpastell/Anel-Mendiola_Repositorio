{
 "cells": [
  {
   "metadata": {},
   "cell_type": "markdown",
   "source": "# gestión de arrays",
   "id": "499e1ab34817785a"
  },
  {
   "cell_type": "code",
   "id": "initial_id",
   "metadata": {
    "collapsed": true,
    "ExecuteTime": {
     "end_time": "2024-09-23T03:39:52.913740Z",
     "start_time": "2024-09-23T03:39:52.906896Z"
    }
   },
   "source": "import numpy as np",
   "outputs": [],
   "execution_count": 78
  },
  {
   "metadata": {
    "ExecuteTime": {
     "end_time": "2024-09-23T03:40:10.276211Z",
     "start_time": "2024-09-23T03:40:10.259926Z"
    }
   },
   "cell_type": "code",
   "source": "arr = np.arange(0, 50, 5)",
   "id": "e792abd223f51165",
   "outputs": [],
   "execution_count": 79
  },
  {
   "metadata": {
    "ExecuteTime": {
     "end_time": "2024-09-23T03:40:12.402006Z",
     "start_time": "2024-09-23T03:40:12.352321Z"
    }
   },
   "cell_type": "code",
   "source": "arr",
   "id": "3fb65dcfa4b8741f",
   "outputs": [
    {
     "data": {
      "text/plain": [
       "array([ 0,  5, 10, 15, 20, 25, 30, 35, 40, 45])"
      ]
     },
     "execution_count": 80,
     "metadata": {},
     "output_type": "execute_result"
    }
   ],
   "execution_count": 80
  },
  {
   "metadata": {
    "ExecuteTime": {
     "end_time": "2024-09-23T03:40:37.356663Z",
     "start_time": "2024-09-23T03:40:37.324606Z"
    }
   },
   "cell_type": "code",
   "source": [
    "# El índice en los arrays funciona exactamente igual que en las listas, es simplemente un número que hace referencia a la posición que queremos consultar o modificar, empezando éste a contarse en 0:\n",
    "\n",
    "arr[0]"
   ],
   "id": "de081e0c122c9aa7",
   "outputs": [
    {
     "data": {
      "text/plain": [
       "np.int64(0)"
      ]
     },
     "execution_count": 82,
     "metadata": {},
     "output_type": "execute_result"
    }
   ],
   "execution_count": 82
  },
  {
   "metadata": {
    "ExecuteTime": {
     "end_time": "2024-09-23T03:40:51.858565Z",
     "start_time": "2024-09-23T03:40:51.798201Z"
    }
   },
   "cell_type": "code",
   "source": [
    "# quinta posición\n",
    "arr[4]\n"
   ],
   "id": "31b010148dd1d168",
   "outputs": [
    {
     "data": {
      "text/plain": [
       "np.int64(20)"
      ]
     },
     "execution_count": 85,
     "metadata": {},
     "output_type": "execute_result"
    }
   ],
   "execution_count": 85
  },
  {
   "metadata": {
    "ExecuteTime": {
     "end_time": "2024-09-23T03:41:02.860575Z",
     "start_time": "2024-09-23T03:41:02.750076Z"
    }
   },
   "cell_type": "code",
   "source": [
    "# ultima posición\n",
    "arr[-1]"
   ],
   "id": "f577c269d11d7681",
   "outputs": [
    {
     "data": {
      "text/plain": [
       "np.int64(45)"
      ]
     },
     "execution_count": 86,
     "metadata": {},
     "output_type": "execute_result"
    }
   ],
   "execution_count": 86
  },
  {
   "metadata": {
    "ExecuteTime": {
     "end_time": "2024-09-23T03:41:19.673928Z",
     "start_time": "2024-09-23T03:41:19.579762Z"
    }
   },
   "cell_type": "code",
   "source": [
    "# asignar un valor\n",
    "arr[-1] = 99"
   ],
   "id": "6304b49407b03b2b",
   "outputs": [],
   "execution_count": 87
  },
  {
   "metadata": {
    "ExecuteTime": {
     "end_time": "2024-09-23T03:41:22.406680Z",
     "start_time": "2024-09-23T03:41:22.338248Z"
    }
   },
   "cell_type": "code",
   "source": "arr",
   "id": "99f0297a7b850e0b",
   "outputs": [
    {
     "data": {
      "text/plain": [
       "array([ 0,  5, 10, 15, 20, 25, 30, 35, 40, 99])"
      ]
     },
     "execution_count": 88,
     "metadata": {},
     "output_type": "execute_result"
    }
   ],
   "execution_count": 88
  },
  {
   "metadata": {},
   "cell_type": "markdown",
   "source": "# slicing",
   "id": "5b51f9f5a6f28695"
  },
  {
   "metadata": {
    "ExecuteTime": {
     "end_time": "2024-09-23T03:42:04.812605Z",
     "start_time": "2024-09-23T03:42:04.733092Z"
    }
   },
   "cell_type": "code",
   "source": [
    "# Igual con las listas, el slicing nos permite acceder y modificar un rango en base a dos índices, uno de inicio y otro de fin separados por dos puntos. Si dejamos los índices vacíos se toman por defecto el principio y el final:\n",
    "\n",
    "\n",
    "# copiar completo de principio a fin\n",
    "arr[:]"
   ],
   "id": "47b117b5e940e64b",
   "outputs": [
    {
     "data": {
      "text/plain": [
       "array([ 0,  5, 10, 15, 20, 25, 30, 35, 40, 99])"
      ]
     },
     "execution_count": 89,
     "metadata": {},
     "output_type": "execute_result"
    }
   ],
   "execution_count": 89
  },
  {
   "metadata": {
    "ExecuteTime": {
     "end_time": "2024-09-23T03:42:53.650479Z",
     "start_time": "2024-09-23T03:42:53.609057Z"
    }
   },
   "cell_type": "code",
   "source": [
    "# subarray de los 3 primeros elementos\n",
    "arr[:3]"
   ],
   "id": "9ae7af5e0e3fcd8f",
   "outputs": [
    {
     "data": {
      "text/plain": [
       "array([ 0,  5, 10])"
      ]
     },
     "execution_count": 91,
     "metadata": {},
     "output_type": "execute_result"
    }
   ],
   "execution_count": 91
  },
  {
   "metadata": {
    "ExecuteTime": {
     "end_time": "2024-09-23T03:43:22.077570Z",
     "start_time": "2024-09-23T03:43:22.055802Z"
    }
   },
   "cell_type": "code",
   "source": [
    "# modificar rango de forma masiva menos primero y último\n",
    "arr[3:-1] =50"
   ],
   "id": "5a409d5cefc2bd9e",
   "outputs": [],
   "execution_count": 92
  },
  {
   "metadata": {
    "ExecuteTime": {
     "end_time": "2024-09-23T03:43:24.690540Z",
     "start_time": "2024-09-23T03:43:24.626178Z"
    }
   },
   "cell_type": "code",
   "source": "arr",
   "id": "731b31da805415fe",
   "outputs": [
    {
     "data": {
      "text/plain": [
       "array([ 0,  5, 10, 50, 50, 50, 50, 50, 50, 99])"
      ]
     },
     "execution_count": 93,
     "metadata": {},
     "output_type": "execute_result"
    }
   ],
   "execution_count": 93
  },
  {
   "metadata": {},
   "cell_type": "markdown",
   "source": "## consideraciones importantes",
   "id": "71f35333d202be35"
  },
  {
   "metadata": {
    "ExecuteTime": {
     "end_time": "2024-09-23T03:44:17.391279Z",
     "start_time": "2024-09-23T03:44:17.359038Z"
    }
   },
   "cell_type": "code",
   "source": [
    "# Los arrays son objetos y por tanto se encuentran referenciados en la memoria.\n",
    "\n",
    "#A la hora de trabajar con subarrays todos los cambios que hagamos en ellos se verán reflejados en el array original:\n",
    "\n",
    "# crear un nuevo arreglo\n",
    "\n",
    "arr= np.arange(0, 30, 3)"
   ],
   "id": "33e3d5d8b54f2608",
   "outputs": [],
   "execution_count": 94
  },
  {
   "metadata": {
    "ExecuteTime": {
     "end_time": "2024-09-23T03:44:19.978937Z",
     "start_time": "2024-09-23T03:44:19.923852Z"
    }
   },
   "cell_type": "code",
   "source": "arr",
   "id": "7a1fe3bf444db9dd",
   "outputs": [
    {
     "data": {
      "text/plain": [
       "array([ 0,  3,  6,  9, 12, 15, 18, 21, 24, 27])"
      ]
     },
     "execution_count": 95,
     "metadata": {},
     "output_type": "execute_result"
    }
   ],
   "execution_count": 95
  },
  {
   "metadata": {
    "ExecuteTime": {
     "end_time": "2024-09-23T03:44:41.231738Z",
     "start_time": "2024-09-23T03:44:41.205101Z"
    }
   },
   "cell_type": "code",
   "source": [
    "#extraemos un subarray\n",
    "subarr= arr[0:4]"
   ],
   "id": "62ea0085f36cb76a",
   "outputs": [],
   "execution_count": 96
  },
  {
   "metadata": {
    "ExecuteTime": {
     "end_time": "2024-09-23T03:44:46.022205Z",
     "start_time": "2024-09-23T03:44:45.954528Z"
    }
   },
   "cell_type": "code",
   "source": "subarr",
   "id": "7a14d62f6e75cf82",
   "outputs": [
    {
     "data": {
      "text/plain": [
       "array([0, 3, 6, 9])"
      ]
     },
     "execution_count": 97,
     "metadata": {},
     "output_type": "execute_result"
    }
   ],
   "execution_count": 97
  },
  {
   "metadata": {
    "ExecuteTime": {
     "end_time": "2024-09-23T03:45:03.748392Z",
     "start_time": "2024-09-23T03:45:03.650823Z"
    }
   },
   "cell_type": "code",
   "source": [
    "# se modifica\n",
    "subarr[:]=99\n",
    "subarr"
   ],
   "id": "aedc6808cb9071bd",
   "outputs": [
    {
     "data": {
      "text/plain": [
       "array([99, 99, 99, 99])"
      ]
     },
     "execution_count": 98,
     "metadata": {},
     "output_type": "execute_result"
    }
   ],
   "execution_count": 98
  },
  {
   "metadata": {
    "ExecuteTime": {
     "end_time": "2024-09-23T03:45:17.270931Z",
     "start_time": "2024-09-23T03:45:17.226224Z"
    }
   },
   "cell_type": "code",
   "source": [
    "# a ver el arreglo original\n",
    "arr"
   ],
   "id": "fa29d2b72493cd06",
   "outputs": [
    {
     "data": {
      "text/plain": [
       "array([99, 99, 99, 99, 12, 15, 18, 21, 24, 27])"
      ]
     },
     "execution_count": 99,
     "metadata": {},
     "output_type": "execute_result"
    }
   ],
   "execution_count": 99
  },
  {
   "metadata": {},
   "cell_type": "markdown",
   "source": [
    "## copia de arrays\n",
    "Mediante el método copy podemos crear una copia, de manera que tengamos dos objetos y los cambios del subarray ya no afecten al original:"
   ],
   "id": "fe01e575106a0144"
  },
  {
   "metadata": {
    "ExecuteTime": {
     "end_time": "2024-09-23T03:46:10.234009Z",
     "start_time": "2024-09-23T03:46:10.169480Z"
    }
   },
   "cell_type": "code",
   "source": [
    "# crear un nuevo array\n",
    "arr = np.arange(0, 30, 3)\n",
    "arr"
   ],
   "id": "2465bd5487f2a137",
   "outputs": [
    {
     "data": {
      "text/plain": [
       "array([ 0,  3,  6,  9, 12, 15, 18, 21, 24, 27])"
      ]
     },
     "execution_count": 100,
     "metadata": {},
     "output_type": "execute_result"
    }
   ],
   "execution_count": 100
  },
  {
   "metadata": {
    "ExecuteTime": {
     "end_time": "2024-09-23T03:46:44.496318Z",
     "start_time": "2024-09-23T03:46:44.436943Z"
    }
   },
   "cell_type": "code",
   "source": [
    "# extraer el subarray de una copia\n",
    "subarr =  arr[0:4].copy()\n",
    "subarr"
   ],
   "id": "8a3bb8387c13c76e",
   "outputs": [
    {
     "data": {
      "text/plain": [
       "array([0, 3, 6, 9])"
      ]
     },
     "execution_count": 102,
     "metadata": {},
     "output_type": "execute_result"
    }
   ],
   "execution_count": 102
  },
  {
   "metadata": {
    "ExecuteTime": {
     "end_time": "2024-09-23T03:47:02.411477Z",
     "start_time": "2024-09-23T03:47:02.368113Z"
    }
   },
   "cell_type": "code",
   "source": [
    "# mo dificamos\n",
    "subarr[:] =99"
   ],
   "id": "42ff55a325428dc1",
   "outputs": [],
   "execution_count": 103
  },
  {
   "metadata": {
    "ExecuteTime": {
     "end_time": "2024-09-23T03:47:07.236783Z",
     "start_time": "2024-09-23T03:47:07.200322Z"
    }
   },
   "cell_type": "code",
   "source": "subarr",
   "id": "ea7f6475e27dfe12",
   "outputs": [
    {
     "data": {
      "text/plain": [
       "array([99, 99, 99, 99])"
      ]
     },
     "execution_count": 104,
     "metadata": {},
     "output_type": "execute_result"
    }
   ],
   "execution_count": 104
  },
  {
   "metadata": {
    "ExecuteTime": {
     "end_time": "2024-09-23T03:47:22.623689Z",
     "start_time": "2024-09-23T03:47:22.596760Z"
    }
   },
   "cell_type": "code",
   "source": [
    "# veamos el array original\n",
    "arr"
   ],
   "id": "7c3a6c17d8256f14",
   "outputs": [
    {
     "data": {
      "text/plain": [
       "array([ 0,  3,  6,  9, 12, 15, 18, 21, 24, 27])"
      ]
     },
     "execution_count": 106,
     "metadata": {},
     "output_type": "execute_result"
    }
   ],
   "execution_count": 106
  },
  {
   "metadata": {},
   "cell_type": "code",
   "outputs": [],
   "execution_count": null,
   "source": "",
   "id": "3aacdbad35b0cfa0"
  }
 ],
 "metadata": {
  "kernelspec": {
   "display_name": "Python 3",
   "language": "python",
   "name": "python3"
  },
  "language_info": {
   "codemirror_mode": {
    "name": "ipython",
    "version": 2
   },
   "file_extension": ".py",
   "mimetype": "text/x-python",
   "name": "python",
   "nbconvert_exporter": "python",
   "pygments_lexer": "ipython2",
   "version": "2.7.6"
  }
 },
 "nbformat": 4,
 "nbformat_minor": 5
}
