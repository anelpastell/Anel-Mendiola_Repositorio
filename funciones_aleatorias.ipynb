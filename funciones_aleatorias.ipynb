{
 "cells": [
  {
   "metadata": {},
   "cell_type": "markdown",
   "source": [
    "# funciones aleatorias\n",
    "las funciones aleatorias encontradas en el módulo random. \n",
    "Tenemos funciones para generar arrays con datos aleatorios y permutaciones. También hay muchas enfocadas a generar muestras de distribuciones de probabilidad pensadas para visualizar estadística.\n",
    "\n",
    "## datos aleatorios\n"
   ],
   "id": "36c6bbe29146b9bd"
  },
  {
   "cell_type": "code",
   "id": "initial_id",
   "metadata": {
    "collapsed": true
   },
   "source": "import numpy as np",
   "outputs": [],
   "execution_count": null
  },
  {
   "metadata": {},
   "cell_type": "code",
   "source": [
    "# numero decimal entre 0 y 1\n",
    "np.random.rand()"
   ],
   "id": "9ac1dc683309f547",
   "outputs": [],
   "execution_count": null
  },
  {
   "metadata": {},
   "cell_type": "code",
   "source": [
    "# array de 1D de decimales entre 0 y 1\n",
    "np.random.randn(4)"
   ],
   "id": "89da8071b6d5fe50",
   "outputs": [],
   "execution_count": null
  },
  {
   "metadata": {},
   "cell_type": "code",
   "source": [
    "#array2D de decimales entre 0 y 1\n",
    "np.random.rand(4, 2)"
   ],
   "id": "a3abb78926683c24",
   "outputs": [],
   "execution_count": null
  }
 ],
 "metadata": {
  "kernelspec": {
   "display_name": "Python 3",
   "language": "python",
   "name": "python3"
  },
  "language_info": {
   "codemirror_mode": {
    "name": "ipython",
    "version": 2
   },
   "file_extension": ".py",
   "mimetype": "text/x-python",
   "name": "python",
   "nbconvert_exporter": "python",
   "pygments_lexer": "ipython2",
   "version": "2.7.6"
  }
 },
 "nbformat": 4,
 "nbformat_minor": 5
}
