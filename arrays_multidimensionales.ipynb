{
 "cells": [
  {
   "metadata": {},
   "cell_type": "markdown",
   "source": [
    "# arrays multidimensionales\n",
    "## indices 2d\n"
   ],
   "id": "3892f6ed54e96914"
  },
  {
   "cell_type": "code",
   "id": "initial_id",
   "metadata": {
    "collapsed": true,
    "ExecuteTime": {
     "end_time": "2024-09-23T03:49:29.591446Z",
     "start_time": "2024-09-23T03:49:29.532209Z"
    }
   },
   "source": [
    "# el 2d es como una tabla con filas y columnas\n",
    "import numpy as np\n",
    "arr2d= np.array(([0,5,10], [15, 20, 25], [30, 35, 40]))"
   ],
   "outputs": [],
   "execution_count": 109
  },
  {
   "metadata": {
    "ExecuteTime": {
     "end_time": "2024-09-23T03:49:32.507954Z",
     "start_time": "2024-09-23T03:49:32.369447Z"
    }
   },
   "cell_type": "code",
   "source": "arr2d",
   "id": "bf24540931264e3d",
   "outputs": [
    {
     "data": {
      "text/plain": [
       "array([[ 0,  5, 10],\n",
       "       [15, 20, 25],\n",
       "       [30, 35, 40]])"
      ]
     },
     "execution_count": 110,
     "metadata": {},
     "output_type": "execute_result"
    }
   ],
   "execution_count": 110
  },
  {
   "metadata": {
    "ExecuteTime": {
     "end_time": "2024-09-23T03:49:43.523444Z",
     "start_time": "2024-09-23T03:49:43.458052Z"
    }
   },
   "cell_type": "code",
   "source": "arr2d.shape",
   "id": "cc3e08956191f487",
   "outputs": [
    {
     "data": {
      "text/plain": [
       "(3, 3)"
      ]
     },
     "execution_count": 111,
     "metadata": {},
     "output_type": "execute_result"
    }
   ],
   "execution_count": 111
  },
  {
   "metadata": {
    "ExecuteTime": {
     "end_time": "2024-09-23T03:49:50.579845Z",
     "start_time": "2024-09-23T03:49:50.393802Z"
    }
   },
   "cell_type": "code",
   "source": "arr2d.ndim",
   "id": "1ebf0190bf25f715",
   "outputs": [
    {
     "data": {
      "text/plain": [
       "2"
      ]
     },
     "execution_count": 112,
     "metadata": {},
     "output_type": "execute_result"
    }
   ],
   "execution_count": 112
  },
  {
   "metadata": {
    "ExecuteTime": {
     "end_time": "2024-09-23T03:49:59.992415Z",
     "start_time": "2024-09-23T03:49:59.919855Z"
    }
   },
   "cell_type": "code",
   "source": "arr2d",
   "id": "ebe9c15ff73c0a04",
   "outputs": [
    {
     "data": {
      "text/plain": [
       "array([[ 0,  5, 10],\n",
       "       [15, 20, 25],\n",
       "       [30, 35, 40]])"
      ]
     },
     "execution_count": 113,
     "metadata": {},
     "output_type": "execute_result"
    }
   ],
   "execution_count": 113
  },
  {
   "metadata": {
    "ExecuteTime": {
     "end_time": "2024-09-23T03:50:14.871339Z",
     "start_time": "2024-09-23T03:50:14.790741Z"
    }
   },
   "cell_type": "code",
   "source": [
    "# primera fila\n",
    "arr2d[2]"
   ],
   "id": "d795e243d481524a",
   "outputs": [
    {
     "data": {
      "text/plain": [
       "array([30, 35, 40])"
      ]
     },
     "execution_count": 114,
     "metadata": {},
     "output_type": "execute_result"
    }
   ],
   "execution_count": 114
  },
  {
   "metadata": {
    "ExecuteTime": {
     "end_time": "2024-09-23T03:50:34.777262Z",
     "start_time": "2024-09-23T03:50:34.701947Z"
    }
   },
   "cell_type": "code",
   "source": [
    "# primera fila y primera columna\n",
    "arr2d[2, 1]"
   ],
   "id": "290af679e9c434d9",
   "outputs": [
    {
     "data": {
      "text/plain": [
       "np.int64(35)"
      ]
     },
     "execution_count": 115,
     "metadata": {},
     "output_type": "execute_result"
    }
   ],
   "execution_count": 115
  },
  {
   "metadata": {
    "ExecuteTime": {
     "end_time": "2024-09-23T03:50:55.886562Z",
     "start_time": "2024-09-23T03:50:55.815451Z"
    }
   },
   "cell_type": "code",
   "source": [
    "# ultima fil ay ultima columna\n",
    "arr2d[-1,-1]"
   ],
   "id": "ad1a61dc10e1c593",
   "outputs": [
    {
     "data": {
      "text/plain": [
       "np.int64(40)"
      ]
     },
     "execution_count": 116,
     "metadata": {},
     "output_type": "execute_result"
    }
   ],
   "execution_count": 116
  },
  {
   "metadata": {
    "ExecuteTime": {
     "end_time": "2024-09-23T03:51:19.787215Z",
     "start_time": "2024-09-23T03:51:19.742421Z"
    }
   },
   "cell_type": "code",
   "source": [
    "# editamos la primera columna en la ultima fila\n",
    "arr2d[-1][0]=99"
   ],
   "id": "e8cee69290de53c5",
   "outputs": [],
   "execution_count": 117
  },
  {
   "metadata": {
    "ExecuteTime": {
     "end_time": "2024-09-23T03:51:22.935963Z",
     "start_time": "2024-09-23T03:51:22.885028Z"
    }
   },
   "cell_type": "code",
   "source": "arr2d",
   "id": "7cb2db61b13dc952",
   "outputs": [
    {
     "data": {
      "text/plain": [
       "array([[ 0,  5, 10],\n",
       "       [15, 20, 25],\n",
       "       [99, 35, 40]])"
      ]
     },
     "execution_count": 118,
     "metadata": {},
     "output_type": "execute_result"
    }
   ],
   "execution_count": 118
  },
  {
   "metadata": {},
   "cell_type": "markdown",
   "source": "## slicing 2d",
   "id": "59b61a882b69af5b"
  },
  {
   "metadata": {
    "ExecuteTime": {
     "end_time": "2024-09-23T03:51:54.587292Z",
     "start_time": "2024-09-23T03:51:54.540087Z"
    }
   },
   "cell_type": "code",
   "source": "arr2d",
   "id": "60f94c82080ede6e",
   "outputs": [
    {
     "data": {
      "text/plain": [
       "array([[ 0,  5, 10],\n",
       "       [15, 20, 25],\n",
       "       [99, 35, 40]])"
      ]
     },
     "execution_count": 119,
     "metadata": {},
     "output_type": "execute_result"
    }
   ],
   "execution_count": 119
  },
  {
   "metadata": {
    "ExecuteTime": {
     "end_time": "2024-09-23T03:52:15.755316Z",
     "start_time": "2024-09-23T03:52:15.694677Z"
    }
   },
   "cell_type": "code",
   "source": [
    "#subarray de filas y columnas\n",
    "arr2d[:][:]"
   ],
   "id": "93125445a1e3acd4",
   "outputs": [
    {
     "data": {
      "text/plain": [
       "array([[ 0,  5, 10],\n",
       "       [15, 20, 25],\n",
       "       [99, 35, 40]])"
      ]
     },
     "execution_count": 121,
     "metadata": {},
     "output_type": "execute_result"
    }
   ],
   "execution_count": 121
  },
  {
   "metadata": {
    "ExecuteTime": {
     "end_time": "2024-09-23T03:53:00.011927Z",
     "start_time": "2024-09-23T03:52:59.815428Z"
    }
   },
   "cell_type": "code",
   "source": [
    "# subarreglo de las dos primeras filas\n",
    "arr2d[:2][:]"
   ],
   "id": "ee14f90e9c457c5e",
   "outputs": [
    {
     "data": {
      "text/plain": [
       "array([[ 0,  5, 10],\n",
       "       [15, 20, 25]])"
      ]
     },
     "execution_count": 122,
     "metadata": {},
     "output_type": "execute_result"
    }
   ],
   "execution_count": 122
  },
  {
   "metadata": {
    "ExecuteTime": {
     "end_time": "2024-09-23T03:53:13.171029Z",
     "start_time": "2024-09-23T03:53:13.108502Z"
    }
   },
   "cell_type": "code",
   "source": "arr2d",
   "id": "3c07c4d7df88ff37",
   "outputs": [
    {
     "data": {
      "text/plain": [
       "array([[ 0,  5, 10],\n",
       "       [15, 20, 25],\n",
       "       [99, 35, 40]])"
      ]
     },
     "execution_count": 123,
     "metadata": {},
     "output_type": "execute_result"
    }
   ],
   "execution_count": 123
  },
  {
   "metadata": {
    "ExecuteTime": {
     "end_time": "2024-09-23T03:53:33.119832Z",
     "start_time": "2024-09-23T03:53:33.065065Z"
    }
   },
   "cell_type": "code",
   "source": [
    "# subarray de la primera columna\n",
    "arr2d[:, :1]"
   ],
   "id": "dd6b3058f78cbedc",
   "outputs": [
    {
     "data": {
      "text/plain": [
       "array([[ 0],\n",
       "       [15],\n",
       "       [99]])"
      ]
     },
     "execution_count": 124,
     "metadata": {},
     "output_type": "execute_result"
    }
   ],
   "execution_count": 124
  },
  {
   "metadata": {
    "ExecuteTime": {
     "end_time": "2024-09-23T03:53:51.292290Z",
     "start_time": "2024-09-23T03:53:51.196979Z"
    }
   },
   "cell_type": "code",
   "source": "arr2d[1:, :1]",
   "id": "d9c8c46085e50768",
   "outputs": [
    {
     "data": {
      "text/plain": [
       "array([[15],\n",
       "       [99]])"
      ]
     },
     "execution_count": 125,
     "metadata": {},
     "output_type": "execute_result"
    }
   ],
   "execution_count": 125
  },
  {
   "metadata": {
    "ExecuteTime": {
     "end_time": "2024-09-23T03:54:32.695090Z",
     "start_time": "2024-09-23T03:54:32.667362Z"
    }
   },
   "cell_type": "code",
   "source": [
    "# edición masiva de la segunda columna\n",
    "arr2d[:, 1:2] =99"
   ],
   "id": "6a89489f0e885b57",
   "outputs": [],
   "execution_count": 126
  },
  {
   "metadata": {
    "ExecuteTime": {
     "end_time": "2024-09-23T03:54:36.977118Z",
     "start_time": "2024-09-23T03:54:36.923335Z"
    }
   },
   "cell_type": "code",
   "source": "arr2d",
   "id": "4b14fe7559c6e476",
   "outputs": [
    {
     "data": {
      "text/plain": [
       "array([[ 0, 99, 10],\n",
       "       [15, 99, 25],\n",
       "       [99, 99, 40]])"
      ]
     },
     "execution_count": 127,
     "metadata": {},
     "output_type": "execute_result"
    }
   ],
   "execution_count": 127
  },
  {
   "metadata": {
    "ExecuteTime": {
     "end_time": "2024-09-23T03:55:16.374514Z",
     "start_time": "2024-09-23T03:55:16.335633Z"
    }
   },
   "cell_type": "code",
   "source": [
    "# edicion masiva de la ultima fila\n",
    "arr2d[-1, :] = [800, 200, 203]"
   ],
   "id": "d94c1bdda69f4951",
   "outputs": [],
   "execution_count": 128
  },
  {
   "metadata": {
    "ExecuteTime": {
     "end_time": "2024-09-23T03:55:19.322085Z",
     "start_time": "2024-09-23T03:55:19.204239Z"
    }
   },
   "cell_type": "code",
   "source": "arr2d",
   "id": "da338bf743263d49",
   "outputs": [
    {
     "data": {
      "text/plain": [
       "array([[  0,  99,  10],\n",
       "       [ 15,  99,  25],\n",
       "       [800, 200, 203]])"
      ]
     },
     "execution_count": 129,
     "metadata": {},
     "output_type": "execute_result"
    }
   ],
   "execution_count": 129
  },
  {
   "metadata": {},
   "cell_type": "markdown",
   "source": [
    "## fancy index\n",
    "Esta técnica se basa en pasarle una lista al array haciendo referencia a las filas donde queremos acceder"
   ],
   "id": "6263fa8e58c18841"
  },
  {
   "metadata": {
    "ExecuteTime": {
     "end_time": "2024-09-23T03:56:24.547891Z",
     "start_time": "2024-09-23T03:56:24.518298Z"
    }
   },
   "cell_type": "code",
   "source": [
    "# creamos un array 2d de ceros\n",
    "arr2d = np.zeros((5, 10))"
   ],
   "id": "5886e142a7e17e12",
   "outputs": [],
   "execution_count": 131
  },
  {
   "metadata": {
    "ExecuteTime": {
     "end_time": "2024-09-23T03:56:36.670574Z",
     "start_time": "2024-09-23T03:56:36.453164Z"
    }
   },
   "cell_type": "code",
   "source": "arr2d",
   "id": "296d47c00f26e439",
   "outputs": [
    {
     "data": {
      "text/plain": [
       "array([[0., 0., 0., 0., 0., 0., 0., 0., 0., 0.],\n",
       "       [0., 0., 0., 0., 0., 0., 0., 0., 0., 0.],\n",
       "       [0., 0., 0., 0., 0., 0., 0., 0., 0., 0.],\n",
       "       [0., 0., 0., 0., 0., 0., 0., 0., 0., 0.],\n",
       "       [0., 0., 0., 0., 0., 0., 0., 0., 0., 0.]])"
      ]
     },
     "execution_count": 133,
     "metadata": {},
     "output_type": "execute_result"
    }
   ],
   "execution_count": 133
  },
  {
   "metadata": {
    "ExecuteTime": {
     "end_time": "2024-09-23T03:57:07.998179Z",
     "start_time": "2024-09-23T03:57:07.967632Z"
    }
   },
   "cell_type": "code",
   "source": [
    "# modificación masiva de la primera, tercera y última fila\n",
    "arr2d[[1, 2, -1]] =5"
   ],
   "id": "6ba970b95cf69ff0",
   "outputs": [],
   "execution_count": 134
  },
  {
   "metadata": {
    "ExecuteTime": {
     "end_time": "2024-09-23T03:57:20.756195Z",
     "start_time": "2024-09-23T03:57:20.647063Z"
    }
   },
   "cell_type": "code",
   "source": "arr2d",
   "id": "a248157285180004",
   "outputs": [
    {
     "data": {
      "text/plain": [
       "array([[0., 0., 0., 0., 0., 0., 0., 0., 0., 0.],\n",
       "       [5., 5., 5., 5., 5., 5., 5., 5., 5., 5.],\n",
       "       [5., 5., 5., 5., 5., 5., 5., 5., 5., 5.],\n",
       "       [0., 0., 0., 0., 0., 0., 0., 0., 0., 0.],\n",
       "       [5., 5., 5., 5., 5., 5., 5., 5., 5., 5.]])"
      ]
     },
     "execution_count": 136,
     "metadata": {},
     "output_type": "execute_result"
    }
   ],
   "execution_count": 136
  },
  {
   "metadata": {
    "ExecuteTime": {
     "end_time": "2024-09-23T03:58:00.295281Z",
     "start_time": "2024-09-23T03:58:00.210932Z"
    }
   },
   "cell_type": "code",
   "source": [
    "# podemos consultar el array a voluntad incluso repitiendo filas\n",
    "arr2d[[0, 1, 1, 1,0]]"
   ],
   "id": "107bc516afdbcd35",
   "outputs": [
    {
     "data": {
      "text/plain": [
       "array([[0., 0., 0., 0., 0., 0., 0., 0., 0., 0.],\n",
       "       [5., 5., 5., 5., 5., 5., 5., 5., 5., 5.],\n",
       "       [5., 5., 5., 5., 5., 5., 5., 5., 5., 5.],\n",
       "       [5., 5., 5., 5., 5., 5., 5., 5., 5., 5.],\n",
       "       [0., 0., 0., 0., 0., 0., 0., 0., 0., 0.]])"
      ]
     },
     "execution_count": 137,
     "metadata": {},
     "output_type": "execute_result"
    }
   ],
   "execution_count": 137
  },
  {
   "metadata": {},
   "cell_type": "markdown",
   "source": [
    "## bucles\n",
    "\n",
    "Podemos recorrer las filas de un array con un bucle for como si de una lista se tratase:"
   ],
   "id": "80fe5659c9701ada"
  },
  {
   "metadata": {
    "ExecuteTime": {
     "end_time": "2024-09-23T03:58:23.766212Z",
     "start_time": "2024-09-23T03:58:23.679385Z"
    }
   },
   "cell_type": "code",
   "source": "arr2d",
   "id": "b2ff84973feec116",
   "outputs": [
    {
     "data": {
      "text/plain": [
       "array([[0., 0., 0., 0., 0., 0., 0., 0., 0., 0.],\n",
       "       [5., 5., 5., 5., 5., 5., 5., 5., 5., 5.],\n",
       "       [5., 5., 5., 5., 5., 5., 5., 5., 5., 5.],\n",
       "       [0., 0., 0., 0., 0., 0., 0., 0., 0., 0.],\n",
       "       [5., 5., 5., 5., 5., 5., 5., 5., 5., 5.]])"
      ]
     },
     "execution_count": 138,
     "metadata": {},
     "output_type": "execute_result"
    }
   ],
   "execution_count": 138
  },
  {
   "metadata": {
    "ExecuteTime": {
     "end_time": "2024-09-23T03:58:41.387721Z",
     "start_time": "2024-09-23T03:58:41.320143Z"
    }
   },
   "cell_type": "code",
   "source": [
    "for fila in arr2d:\n",
    "    print(fila)"
   ],
   "id": "b7ef4c9c939850bc",
   "outputs": [
    {
     "name": "stdout",
     "output_type": "stream",
     "text": [
      "[0. 0. 0. 0. 0. 0. 0. 0. 0. 0.]\n",
      "[5. 5. 5. 5. 5. 5. 5. 5. 5. 5.]\n",
      "[5. 5. 5. 5. 5. 5. 5. 5. 5. 5.]\n",
      "[0. 0. 0. 0. 0. 0. 0. 0. 0. 0.]\n",
      "[5. 5. 5. 5. 5. 5. 5. 5. 5. 5.]\n"
     ]
    }
   ],
   "execution_count": 139
  },
  {
   "metadata": {
    "ExecuteTime": {
     "end_time": "2024-09-23T03:59:45.363257Z",
     "start_time": "2024-09-23T03:59:45.324242Z"
    }
   },
   "cell_type": "code",
   "source": [
    "# Utilizando enumeradores podemos sacar el índice de cada posición de la fila y el de la columna y asignarle algo:\n",
    "\n",
    "for i, fila in enumerate(arr2d):\n",
    "    for j, columna in enumerate(fila):\n",
    "        arr2d[i][j]= len(fila)*i+j"
   ],
   "id": "6568ebadff0735a1",
   "outputs": [],
   "execution_count": 141
  },
  {
   "metadata": {
    "ExecuteTime": {
     "end_time": "2024-09-23T03:59:48.041402Z",
     "start_time": "2024-09-23T03:59:47.990290Z"
    }
   },
   "cell_type": "code",
   "source": "arr2d",
   "id": "3679a44eeb7a8893",
   "outputs": [
    {
     "data": {
      "text/plain": [
       "array([[ 0.,  1.,  2.,  3.,  4.,  5.,  6.,  7.,  8.,  9.],\n",
       "       [10., 11., 12., 13., 14., 15., 16., 17., 18., 19.],\n",
       "       [20., 21., 22., 23., 24., 25., 26., 27., 28., 29.],\n",
       "       [30., 31., 32., 33., 34., 35., 36., 37., 38., 39.],\n",
       "       [40., 41., 42., 43., 44., 45., 46., 47., 48., 49.]])"
      ]
     },
     "execution_count": 142,
     "metadata": {},
     "output_type": "execute_result"
    }
   ],
   "execution_count": 142
  },
  {
   "metadata": {},
   "cell_type": "markdown",
   "source": [
    "\n",
    "# Arrays 3D y más dimensiones\n",
    "Hasta ahora hemos trabajado los arrays de 1 y 2 dimensiones, ¿será posible hacer lo mismo con 3 o más dimensiones?\n",
    "\n",
    "El truco para manejar arrays de más dimensiones es anidar niveles de profundidad.\n",
    "\n",
    "Vamos a recrear los 3 niveles de profundidad paso a paso para un array muy simple de 2x2x2:"
   ],
   "id": "306066bf66b6a4d1"
  },
  {
   "metadata": {
    "ExecuteTime": {
     "end_time": "2024-09-23T04:00:39.302856Z",
     "start_time": "2024-09-23T04:00:39.266610Z"
    }
   },
   "cell_type": "code",
   "source": [
    "# primer nivel con 2 de ancho\n",
    "arr1d= np.array( [1, 2])"
   ],
   "id": "17258049b1e486f5",
   "outputs": [],
   "execution_count": 145
  },
  {
   "metadata": {
    "ExecuteTime": {
     "end_time": "2024-09-23T04:00:43.060873Z",
     "start_time": "2024-09-23T04:00:43.018412Z"
    }
   },
   "cell_type": "code",
   "source": "arr1d",
   "id": "34f8975d213256c4",
   "outputs": [
    {
     "data": {
      "text/plain": [
       "array([1, 2])"
      ]
     },
     "execution_count": 146,
     "metadata": {},
     "output_type": "execute_result"
    }
   ],
   "execution_count": 146
  },
  {
   "metadata": {
    "ExecuteTime": {
     "end_time": "2024-09-23T04:01:21.303764Z",
     "start_time": "2024-09-23T04:01:21.275274Z"
    }
   },
   "cell_type": "code",
   "source": [
    "# segundo nivel con 2 de anchp y 2 de alto\n",
    "arr2d= np.array(\n",
    "    [\n",
    "        [1, 2],\n",
    "        [3, 4]\n",
    "    ]\n",
    ")"
   ],
   "id": "bd5bb999062dce39",
   "outputs": [],
   "execution_count": 148
  },
  {
   "metadata": {
    "ExecuteTime": {
     "end_time": "2024-09-23T04:01:24.523165Z",
     "start_time": "2024-09-23T04:01:24.447137Z"
    }
   },
   "cell_type": "code",
   "source": "arr2d",
   "id": "4fc4f700e6b25f4d",
   "outputs": [
    {
     "data": {
      "text/plain": [
       "array([[1, 2],\n",
       "       [3, 4]])"
      ]
     },
     "execution_count": 149,
     "metadata": {},
     "output_type": "execute_result"
    }
   ],
   "execution_count": 149
  },
  {
   "metadata": {
    "ExecuteTime": {
     "end_time": "2024-09-23T04:02:25.957168Z",
     "start_time": "2024-09-23T04:02:25.914811Z"
    }
   },
   "cell_type": "code",
   "source": [
    "# tres niveles con 2 de ancho, 2 de alto y 2 de profundidad\n",
    "\n",
    "arr3d= np.array(\n",
    "    [\n",
    "        [\n",
    "            [1, 2], \n",
    "            [3, 4]\n",
    "        ],\n",
    "        [\n",
    "            [5, 6], \n",
    "            [7, 8]\n",
    "        ]\n",
    "    ]\n",
    ")"
   ],
   "id": "bc57a04759f7f353",
   "outputs": [],
   "execution_count": 150
  },
  {
   "metadata": {
    "ExecuteTime": {
     "end_time": "2024-09-23T04:02:29.816661Z",
     "start_time": "2024-09-23T04:02:29.749112Z"
    }
   },
   "cell_type": "code",
   "source": "arr3d",
   "id": "ee53a1dd12762ac0",
   "outputs": [
    {
     "data": {
      "text/plain": [
       "array([[[1, 2],\n",
       "        [3, 4]],\n",
       "\n",
       "       [[5, 6],\n",
       "        [7, 8]]])"
      ]
     },
     "execution_count": 151,
     "metadata": {},
     "output_type": "execute_result"
    }
   ],
   "execution_count": 151
  },
  {
   "metadata": {
    "ExecuteTime": {
     "end_time": "2024-09-23T04:02:54.252237Z",
     "start_time": "2024-09-23T04:02:54.209535Z"
    }
   },
   "cell_type": "code",
   "source": [
    "#Con esto tenemos 3 dimensiones pero podemos añadir más.\n",
    "\n",
    "#El concepto es difícil de imaginar, nosotros únicamente percibimos 3 dimensiones pero si lo entendemos como una ramificación dónde para cada elemento hay otra lista con varios elementos, entonces podemos hacernos una idea:\n",
    "\n",
    "\n",
    "# Cuarto nivel con 2 de ancho, 2 de alto, 2 de profundidad y 2 de... ¿espacio/tiempo? xD\n",
    "arr_4d = np.array(\n",
    "    [\n",
    "        [\n",
    "            [\n",
    "                [1, 2],\n",
    "                [3, 4]\n",
    "            ],\n",
    "            [\n",
    "                [5, 6],\n",
    "                [7, 8]\n",
    "            ]\n",
    "        ],\n",
    "        [\n",
    "            [\n",
    "                [9, 10],\n",
    "                [11, 12]\n",
    "            ],\n",
    "            [\n",
    "                [13, 14],\n",
    "                [15, 16]\n",
    "            ]\n",
    "        ]\n",
    "    ]\n",
    ")\n"
   ],
   "id": "5b389a12dff9a7a8",
   "outputs": [],
   "execution_count": 153
  },
  {
   "metadata": {
    "ExecuteTime": {
     "end_time": "2024-09-23T04:03:05.896543Z",
     "start_time": "2024-09-23T04:03:05.827588Z"
    }
   },
   "cell_type": "code",
   "source": "arr_4d",
   "id": "fab777d027f6d7c1",
   "outputs": [
    {
     "data": {
      "text/plain": [
       "array([[[[ 1,  2],\n",
       "         [ 3,  4]],\n",
       "\n",
       "        [[ 5,  6],\n",
       "         [ 7,  8]]],\n",
       "\n",
       "\n",
       "       [[[ 9, 10],\n",
       "         [11, 12]],\n",
       "\n",
       "        [[13, 14],\n",
       "         [15, 16]]]])"
      ]
     },
     "execution_count": 155,
     "metadata": {},
     "output_type": "execute_result"
    }
   ],
   "execution_count": 155
  },
  {
   "metadata": {
    "ExecuteTime": {
     "end_time": "2024-09-23T04:03:57.530801Z",
     "start_time": "2024-09-23T04:03:57.505315Z"
    }
   },
   "cell_type": "code",
   "source": [
    "# se pueden crear arreglos multidimensionales con las funciones pre-generadas\n",
    "\n",
    "# array 3d de ceros\n",
    "arr3d= np.zeros([2, 2, 2])\n"
   ],
   "id": "62011bd4097873d5",
   "outputs": [],
   "execution_count": 157
  },
  {
   "metadata": {
    "ExecuteTime": {
     "end_time": "2024-09-23T04:04:01.368984Z",
     "start_time": "2024-09-23T04:04:01.291887Z"
    }
   },
   "cell_type": "code",
   "source": "arr3d",
   "id": "4a94632d42323765",
   "outputs": [
    {
     "data": {
      "text/plain": [
       "array([[[0., 0.],\n",
       "        [0., 0.]],\n",
       "\n",
       "       [[0., 0.],\n",
       "        [0., 0.]]])"
      ]
     },
     "execution_count": 158,
     "metadata": {},
     "output_type": "execute_result"
    }
   ],
   "execution_count": 158
  },
  {
   "metadata": {
    "ExecuteTime": {
     "end_time": "2024-09-23T04:04:11.823175Z",
     "start_time": "2024-09-23T04:04:11.783456Z"
    }
   },
   "cell_type": "code",
   "source": [
    "# array 4d de unos 2x2x2x2\n",
    "arr_4d = np.ones([2,2,2,2])"
   ],
   "id": "d3860b82657add76",
   "outputs": [],
   "execution_count": 160
  },
  {
   "metadata": {
    "ExecuteTime": {
     "end_time": "2024-09-23T04:04:24.560833Z",
     "start_time": "2024-09-23T04:04:24.489590Z"
    }
   },
   "cell_type": "code",
   "source": "arr_4d",
   "id": "733f711d6921e879",
   "outputs": [
    {
     "data": {
      "text/plain": [
       "array([[[[1., 1.],\n",
       "         [1., 1.]],\n",
       "\n",
       "        [[1., 1.],\n",
       "         [1., 1.]]],\n",
       "\n",
       "\n",
       "       [[[1., 1.],\n",
       "         [1., 1.]],\n",
       "\n",
       "        [[1., 1.],\n",
       "         [1., 1.]]]])"
      ]
     },
     "execution_count": 162,
     "metadata": {},
     "output_type": "execute_result"
    }
   ],
   "execution_count": 162
  },
  {
   "metadata": {
    "ExecuteTime": {
     "end_time": "2024-09-23T04:05:14.965104Z",
     "start_time": "2024-09-23T04:05:14.926582Z"
    }
   },
   "cell_type": "code",
   "source": [
    "# función reshape para formar dimensiones y tamaños\n",
    "# reshape de un rango con 9 elementos a una matriz de 3x3\n",
    "\n",
    "arr2d= np.arange(9)\n",
    "arr2d"
   ],
   "id": "1e1a30b95b9f5a4d",
   "outputs": [
    {
     "data": {
      "text/plain": [
       "array([0, 1, 2, 3, 4, 5, 6, 7, 8])"
      ]
     },
     "execution_count": 163,
     "metadata": {},
     "output_type": "execute_result"
    }
   ],
   "execution_count": 163
  },
  {
   "metadata": {
    "ExecuteTime": {
     "end_time": "2024-09-23T04:05:26.158566Z",
     "start_time": "2024-09-23T04:05:26.103933Z"
    }
   },
   "cell_type": "code",
   "source": "arr2d.reshape(3,3)",
   "id": "f17b587f4289f3f8",
   "outputs": [
    {
     "data": {
      "text/plain": [
       "array([[0, 1, 2],\n",
       "       [3, 4, 5],\n",
       "       [6, 7, 8]])"
      ]
     },
     "execution_count": 164,
     "metadata": {},
     "output_type": "execute_result"
    }
   ],
   "execution_count": 164
  },
  {
   "metadata": {
    "ExecuteTime": {
     "end_time": "2024-09-23T04:05:54.044222Z",
     "start_time": "2024-09-23T04:05:53.989066Z"
    }
   },
   "cell_type": "code",
   "source": [
    "#el número de elementos tiene que coincidir con el tamaño de las dimensiones multiplicadas:\n",
    "\n",
    "arr3d= np.arange(9).reshape(3,2)"
   ],
   "id": "3f7fa1c6b402ab1d",
   "outputs": [
    {
     "ename": "ValueError",
     "evalue": "cannot reshape array of size 9 into shape (3,2)",
     "output_type": "error",
     "traceback": [
      "\u001B[1;31m---------------------------------------------------------------------------\u001B[0m",
      "\u001B[1;31mValueError\u001B[0m                                Traceback (most recent call last)",
      "Cell \u001B[1;32mIn[165], line 3\u001B[0m\n\u001B[0;32m      1\u001B[0m \u001B[38;5;66;03m#el número de elementos tiene que coincidir con el tamaño de las dimensiones multiplicadas:\u001B[39;00m\n\u001B[1;32m----> 3\u001B[0m arr3d\u001B[38;5;241m=\u001B[39m \u001B[43mnp\u001B[49m\u001B[38;5;241;43m.\u001B[39;49m\u001B[43marange\u001B[49m\u001B[43m(\u001B[49m\u001B[38;5;241;43m9\u001B[39;49m\u001B[43m)\u001B[49m\u001B[38;5;241;43m.\u001B[39;49m\u001B[43mreshape\u001B[49m\u001B[43m(\u001B[49m\u001B[38;5;241;43m3\u001B[39;49m\u001B[43m,\u001B[49m\u001B[38;5;241;43m2\u001B[39;49m\u001B[43m)\u001B[49m\n",
      "\u001B[1;31mValueError\u001B[0m: cannot reshape array of size 9 into shape (3,2)"
     ]
    }
   ],
   "execution_count": 165
  },
  {
   "metadata": {
    "ExecuteTime": {
     "end_time": "2024-09-23T04:06:07.114560Z",
     "start_time": "2024-09-23T04:06:07.075369Z"
    }
   },
   "cell_type": "code",
   "source": "np.zeros([2, 2, 2, 2])",
   "id": "14b86896da00d520",
   "outputs": [
    {
     "data": {
      "text/plain": [
       "array([[[[0., 0.],\n",
       "         [0., 0.]],\n",
       "\n",
       "        [[0., 0.],\n",
       "         [0., 0.]]],\n",
       "\n",
       "\n",
       "       [[[0., 0.],\n",
       "         [0., 0.]],\n",
       "\n",
       "        [[0., 0.],\n",
       "         [0., 0.]]]])"
      ]
     },
     "execution_count": 166,
     "metadata": {},
     "output_type": "execute_result"
    }
   ],
   "execution_count": 166
  },
  {
   "metadata": {},
   "cell_type": "code",
   "outputs": [],
   "execution_count": null,
   "source": "",
   "id": "3eb6a05d36b2d3fc"
  }
 ],
 "metadata": {
  "kernelspec": {
   "display_name": "Python 3",
   "language": "python",
   "name": "python3"
  },
  "language_info": {
   "codemirror_mode": {
    "name": "ipython",
    "version": 2
   },
   "file_extension": ".py",
   "mimetype": "text/x-python",
   "name": "python",
   "nbconvert_exporter": "python",
   "pygments_lexer": "ipython2",
   "version": "2.7.6"
  }
 },
 "nbformat": 4,
 "nbformat_minor": 5
}
