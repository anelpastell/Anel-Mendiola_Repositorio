{
 "cells": [
  {
   "cell_type": "code",
   "execution_count": null,
   "id": "initial_id",
   "metadata": {
    "collapsed": true
   },
   "outputs": [],
   "source": [
    "### Tarea listas\n",
    "\n",
    "lista1 = [\"pastel\", \"naranja\", \"rosa\", \"café\"]\n",
    "print(lista1)\n",
    "\n",
    "lista1.append(\"payaso\")\n",
    "print(lista1)\n",
    "\n",
    "lista1.extend(\"jirafa\")\n",
    "print(lista1)\n",
    "\n",
    "lista1.insert(0,\"vaca\")\n",
    "print(lista1)\n",
    "\n",
    "lista1.remove(\"vaca\")\n",
    "print(lista1)\n",
    "\n",
    "lista1.pop(-3)\n",
    "\n",
    "lista1.clear()\n",
    "\n",
    "lista2 = [\"conejo\", \"rosa\", \"foca\", \"blanco\"]\n",
    "\n",
    "lista2.index(\"conejo\")\n",
    "\n",
    "lista2.count(2)\n",
    "\n",
    "lista2.sort(*, key= None, reverse= False)\n",
    "\n",
    "lista2.reverse()\n",
    "\n",
    "lista2.copy()\n",
    "\n"
   ]
  }
 ],
 "metadata": {
  "kernelspec": {
   "display_name": "Python 3",
   "language": "python",
   "name": "python3"
  },
  "language_info": {
   "codemirror_mode": {
    "name": "ipython",
    "version": 2
   },
   "file_extension": ".py",
   "mimetype": "text/x-python",
   "name": "python",
   "nbconvert_exporter": "python",
   "pygments_lexer": "ipython2",
   "version": "2.7.6"
  }
 },
 "nbformat": 4,
 "nbformat_minor": 5
}
