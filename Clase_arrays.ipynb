{
 "cells": [
  {
   "cell_type": "code",
   "id": "initial_id",
   "metadata": {
    "collapsed": true,
    "ExecuteTime": {
     "end_time": "2024-09-23T02:33:19.546113Z",
     "start_time": "2024-09-23T02:33:19.455102Z"
    }
   },
   "source": [
    "import numpy as np\n",
    "int('5')\n",
    "arreglo = np.array([1, 2, 3, 4, 5])\n",
    "arreglo\n",
    "type(arreglo)\n"
   ],
   "outputs": [
    {
     "data": {
      "text/plain": [
       "numpy.ndarray"
      ]
     },
     "execution_count": 55,
     "metadata": {},
     "output_type": "execute_result"
    }
   ],
   "execution_count": 55
  },
  {
   "metadata": {},
   "cell_type": "markdown",
   "source": "# Dimensión y forma",
   "id": "403ea85963aec583"
  },
  {
   "metadata": {
    "ExecuteTime": {
     "end_time": "2024-09-23T02:33:19.653683Z",
     "start_time": "2024-09-23T02:33:19.622502Z"
    }
   },
   "cell_type": "code",
   "source": "print(arreglo)",
   "id": "9efd0acc7727baf3",
   "outputs": [
    {
     "name": "stdout",
     "output_type": "stream",
     "text": [
      "[1 2 3 4 5]\n"
     ]
    }
   ],
   "execution_count": 56
  },
  {
   "metadata": {
    "ExecuteTime": {
     "end_time": "2024-09-23T02:33:19.756354Z",
     "start_time": "2024-09-23T02:33:19.732489Z"
    }
   },
   "cell_type": "code",
   "source": "arreglo.ndim",
   "id": "82782013cad58533",
   "outputs": [
    {
     "data": {
      "text/plain": [
       "1"
      ]
     },
     "execution_count": 57,
     "metadata": {},
     "output_type": "execute_result"
    }
   ],
   "execution_count": 57
  },
  {
   "metadata": {
    "ExecuteTime": {
     "end_time": "2024-09-23T02:33:19.906268Z",
     "start_time": "2024-09-23T02:33:19.867703Z"
    }
   },
   "cell_type": "code",
   "source": "arreglo.shape",
   "id": "a7f0151a69e4f74",
   "outputs": [
    {
     "data": {
      "text/plain": [
       "(5,)"
      ]
     },
     "execution_count": 58,
     "metadata": {},
     "output_type": "execute_result"
    }
   ],
   "execution_count": 58
  },
  {
   "metadata": {
    "ExecuteTime": {
     "end_time": "2024-09-23T02:33:20.135434Z",
     "start_time": "2024-09-23T02:33:20.030618Z"
    }
   },
   "cell_type": "code",
   "source": [
    "arreglo =  np.array([\n",
    "    [1, 2, 3, 4, 5],\n",
    "    [6, 7, 8, 9, 10]\n",
    "])\n",
    "print(arreglo)"
   ],
   "id": "5f1cd777be40a92d",
   "outputs": [
    {
     "name": "stdout",
     "output_type": "stream",
     "text": [
      "[[ 1  2  3  4  5]\n",
      " [ 6  7  8  9 10]]\n"
     ]
    }
   ],
   "execution_count": 59
  },
  {
   "metadata": {
    "ExecuteTime": {
     "end_time": "2024-09-23T02:33:20.316082Z",
     "start_time": "2024-09-23T02:33:20.221993Z"
    }
   },
   "cell_type": "code",
   "source": [
    "arreglo.ndim\n",
    "# esto es para el número de dimensiones wuuuu"
   ],
   "id": "2ef7de25d84bc919",
   "outputs": [
    {
     "data": {
      "text/plain": [
       "2"
      ]
     },
     "execution_count": 60,
     "metadata": {},
     "output_type": "execute_result"
    }
   ],
   "execution_count": 60
  },
  {
   "metadata": {
    "ExecuteTime": {
     "end_time": "2024-09-23T02:33:20.586279Z",
     "start_time": "2024-09-23T02:33:20.448713Z"
    }
   },
   "cell_type": "code",
   "source": [
    "arreglo.shape\n",
    "#este nos dice la forma, 2 filas x 5 columnas"
   ],
   "id": "97ab9afb987b394",
   "outputs": [
    {
     "data": {
      "text/plain": [
       "(2, 5)"
      ]
     },
     "execution_count": 61,
     "metadata": {},
     "output_type": "execute_result"
    }
   ],
   "execution_count": 61
  },
  {
   "metadata": {},
   "cell_type": "markdown",
   "source": "# Tipos de datos",
   "id": "1c8f1c6f3b0d7278"
  },
  {
   "metadata": {
    "ExecuteTime": {
     "end_time": "2024-09-23T02:33:20.757326Z",
     "start_time": "2024-09-23T02:33:20.715746Z"
    }
   },
   "cell_type": "code",
   "source": "arreglo = np.array([1, 2, 3, 4, 5])",
   "id": "67c77790545daa31",
   "outputs": [],
   "execution_count": 62
  },
  {
   "metadata": {
    "ExecuteTime": {
     "end_time": "2024-09-23T02:33:20.872012Z",
     "start_time": "2024-09-23T02:33:20.848043Z"
    }
   },
   "cell_type": "code",
   "source": [
    "arreglo.dtype \n",
    "# nos dice que es un entero de 64 bits"
   ],
   "id": "5695e584751706f1",
   "outputs": [
    {
     "data": {
      "text/plain": [
       "dtype('int64')"
      ]
     },
     "execution_count": 63,
     "metadata": {},
     "output_type": "execute_result"
    }
   ],
   "execution_count": 63
  },
  {
   "metadata": {
    "ExecuteTime": {
     "end_time": "2024-09-23T02:33:20.992283Z",
     "start_time": "2024-09-23T02:33:20.981031Z"
    }
   },
   "cell_type": "code",
   "source": "arreglo = np.array([1, 2, 3, 4, 5, 6.1234])",
   "id": "cc87fae4411fd000",
   "outputs": [],
   "execution_count": 64
  },
  {
   "metadata": {
    "ExecuteTime": {
     "end_time": "2024-09-23T02:33:21.070108Z",
     "start_time": "2024-09-23T02:33:21.032319Z"
    }
   },
   "cell_type": "code",
   "source": [
    "arreglo.dtype\n",
    "# nos dice que es un flotante"
   ],
   "id": "364756644767a1f8",
   "outputs": [
    {
     "data": {
      "text/plain": [
       "dtype('float64')"
      ]
     },
     "execution_count": 65,
     "metadata": {},
     "output_type": "execute_result"
    }
   ],
   "execution_count": 65
  },
  {
   "metadata": {},
   "cell_type": "markdown",
   "source": "# Almacenar cadenas",
   "id": "eaf1f4e114f6ab56"
  },
  {
   "metadata": {
    "ExecuteTime": {
     "end_time": "2024-09-23T02:33:21.160023Z",
     "start_time": "2024-09-23T02:33:21.136147Z"
    }
   },
   "cell_type": "code",
   "source": "arreglo = np.array([\"Hola\", \"como\", \"estas\"])",
   "id": "d37c7c4f6dc873fe",
   "outputs": [],
   "execution_count": 66
  },
  {
   "metadata": {
    "ExecuteTime": {
     "end_time": "2024-09-23T02:33:21.234519Z",
     "start_time": "2024-09-23T02:33:21.216903Z"
    }
   },
   "cell_type": "code",
   "source": [
    "arreglo.dtype\n",
    "# nos indica que el arreglo es un unicode, o sea, que tiene símbolos de escritura"
   ],
   "id": "ad8ef99b2cdd2cb1",
   "outputs": [
    {
     "data": {
      "text/plain": [
       "dtype('<U5')"
      ]
     },
     "execution_count": 67,
     "metadata": {},
     "output_type": "execute_result"
    }
   ],
   "execution_count": 67
  },
  {
   "metadata": {
    "ExecuteTime": {
     "end_time": "2024-09-23T02:33:21.321326Z",
     "start_time": "2024-09-23T02:33:21.300681Z"
    }
   },
   "cell_type": "code",
   "source": "arreglo =  np.array([\"hola\", 123436, 3.43863])",
   "id": "1f4349ae4d15c271",
   "outputs": [],
   "execution_count": 68
  },
  {
   "metadata": {
    "ExecuteTime": {
     "end_time": "2024-09-23T02:33:21.398243Z",
     "start_time": "2024-09-23T02:33:21.387038Z"
    }
   },
   "cell_type": "code",
   "source": "arreglo.dtype",
   "id": "2223f47bacb51c8d",
   "outputs": [
    {
     "data": {
      "text/plain": [
       "dtype('<U32')"
      ]
     },
     "execution_count": 69,
     "metadata": {},
     "output_type": "execute_result"
    }
   ],
   "execution_count": 69
  },
  {
   "metadata": {
    "ExecuteTime": {
     "end_time": "2024-09-23T02:33:21.481993Z",
     "start_time": "2024-09-23T02:33:21.452213Z"
    }
   },
   "cell_type": "code",
   "source": [
    "arreglo\n",
    "# los arreglos no son listas, son estructuras que almacenan vectores y matrices, son conscientes en t0do momento de su dimensión, forma y tipo de datos"
   ],
   "id": "6de3a6d0fad40f8f",
   "outputs": [
    {
     "data": {
      "text/plain": [
       "array(['hola', '123436', '3.43863'], dtype='<U32')"
      ]
     },
     "execution_count": 70,
     "metadata": {},
     "output_type": "execute_result"
    }
   ],
   "execution_count": 70
  },
  {
   "metadata": {},
   "cell_type": "markdown",
   "source": "# Tablas y gráficos",
   "id": "76b80429faa67980"
  },
  {
   "metadata": {
    "ExecuteTime": {
     "end_time": "2024-09-23T02:33:21.551517Z",
     "start_time": "2024-09-23T02:33:21.516592Z"
    }
   },
   "cell_type": "code",
   "source": [
    "import numpy as np\n",
    "import pandas as pd"
   ],
   "id": "d043829142042d22",
   "outputs": [],
   "execution_count": 71
  },
  {
   "metadata": {
    "ExecuteTime": {
     "end_time": "2024-09-23T02:33:21.629771Z",
     "start_time": "2024-09-23T02:33:21.597824Z"
    }
   },
   "cell_type": "code",
   "source": [
    "tabla = pd.DataFrame(\n",
    "    np.random.randint(0, 100, size = (4, 3)),\n",
    "    columns = ['pepe', 'maria', 'jose'])\n",
    "tabla"
   ],
   "id": "efc2ace450ea0b16",
   "outputs": [
    {
     "data": {
      "text/plain": [
       "   pepe  maria  jose\n",
       "0    38      2    66\n",
       "1    88     63    42\n",
       "2    79     99    11\n",
       "3    29     64    24"
      ],
      "text/html": [
       "<div>\n",
       "<style scoped>\n",
       "    .dataframe tbody tr th:only-of-type {\n",
       "        vertical-align: middle;\n",
       "    }\n",
       "\n",
       "    .dataframe tbody tr th {\n",
       "        vertical-align: top;\n",
       "    }\n",
       "\n",
       "    .dataframe thead th {\n",
       "        text-align: right;\n",
       "    }\n",
       "</style>\n",
       "<table border=\"1\" class=\"dataframe\">\n",
       "  <thead>\n",
       "    <tr style=\"text-align: right;\">\n",
       "      <th></th>\n",
       "      <th>pepe</th>\n",
       "      <th>maria</th>\n",
       "      <th>jose</th>\n",
       "    </tr>\n",
       "  </thead>\n",
       "  <tbody>\n",
       "    <tr>\n",
       "      <th>0</th>\n",
       "      <td>38</td>\n",
       "      <td>2</td>\n",
       "      <td>66</td>\n",
       "    </tr>\n",
       "    <tr>\n",
       "      <th>1</th>\n",
       "      <td>88</td>\n",
       "      <td>63</td>\n",
       "      <td>42</td>\n",
       "    </tr>\n",
       "    <tr>\n",
       "      <th>2</th>\n",
       "      <td>79</td>\n",
       "      <td>99</td>\n",
       "      <td>11</td>\n",
       "    </tr>\n",
       "    <tr>\n",
       "      <th>3</th>\n",
       "      <td>29</td>\n",
       "      <td>64</td>\n",
       "      <td>24</td>\n",
       "    </tr>\n",
       "  </tbody>\n",
       "</table>\n",
       "</div>"
      ]
     },
     "execution_count": 72,
     "metadata": {},
     "output_type": "execute_result"
    }
   ],
   "execution_count": 72
  }
 ],
 "metadata": {
  "kernelspec": {
   "display_name": "Python 3",
   "language": "python",
   "name": "python3"
  },
  "language_info": {
   "codemirror_mode": {
    "name": "ipython",
    "version": 2
   },
   "file_extension": ".py",
   "mimetype": "text/x-python",
   "name": "python",
   "nbconvert_exporter": "python",
   "pygments_lexer": "ipython2",
   "version": "2.7.6"
  }
 },
 "nbformat": 4,
 "nbformat_minor": 5
}
