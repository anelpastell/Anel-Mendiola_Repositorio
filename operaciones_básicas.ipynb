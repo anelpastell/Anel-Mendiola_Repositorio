{
 "cells": [
  {
   "metadata": {},
   "cell_type": "markdown",
   "source": [
    "# Operaciones básicas\n",
    "\n",
    "## suma"
   ],
   "id": "c30b114a19dd7cb6"
  },
  {
   "metadata": {
    "ExecuteTime": {
     "end_time": "2024-09-23T03:06:24.897651Z",
     "start_time": "2024-09-23T03:06:24.862293Z"
    }
   },
   "cell_type": "code",
   "source": [
    "lista1 = [1, 2, 3]\n",
    "lista2 = [4, 5, 6]"
   ],
   "id": "e51c6b5ec1cafac8",
   "outputs": [],
   "execution_count": 27
  },
  {
   "metadata": {
    "ExecuteTime": {
     "end_time": "2024-09-23T03:06:34.507382Z",
     "start_time": "2024-09-23T03:06:34.440838Z"
    }
   },
   "cell_type": "code",
   "source": "lista1+lista2",
   "id": "a0bec85b20736dc9",
   "outputs": [
    {
     "data": {
      "text/plain": [
       "[1, 2, 3, 4, 5, 6]"
      ]
     },
     "execution_count": 29,
     "metadata": {},
     "output_type": "execute_result"
    }
   ],
   "execution_count": 29
  },
  {
   "metadata": {
    "ExecuteTime": {
     "end_time": "2024-09-23T03:07:45.244129Z",
     "start_time": "2024-09-23T03:07:45.053694Z"
    }
   },
   "cell_type": "code",
   "source": [
    "import numpy as np\n",
    "# dos arreglos\n",
    "arr1= np.array([1, 2, 3, 4])\n",
    "arr2= np.array([5, 6, 7, 8])\n",
    "\n",
    "# se suman\n",
    "arr1+arr2"
   ],
   "id": "e8781852aef9905d",
   "outputs": [
    {
     "data": {
      "text/plain": [
       "array([ 6,  8, 10, 12])"
      ]
     },
     "execution_count": 33,
     "metadata": {},
     "output_type": "execute_result"
    }
   ],
   "execution_count": 33
  },
  {
   "metadata": {
    "ExecuteTime": {
     "end_time": "2024-09-23T03:08:27.536390Z",
     "start_time": "2024-09-23T03:08:27.401100Z"
    }
   },
   "cell_type": "code",
   "source": [
    "# si los arreglos no tienen la misma forma, entonces no se pueden sumar\n",
    "\n",
    "arr3= np.array([9, 10])\n",
    "arr2 + arr3 ## sale error"
   ],
   "id": "960e5b54f661ea8c",
   "outputs": [
    {
     "ename": "ValueError",
     "evalue": "operands could not be broadcast together with shapes (4,) (2,) ",
     "output_type": "error",
     "traceback": [
      "\u001B[1;31m---------------------------------------------------------------------------\u001B[0m",
      "\u001B[1;31mValueError\u001B[0m                                Traceback (most recent call last)",
      "Cell \u001B[1;32mIn[35], line 4\u001B[0m\n\u001B[0;32m      1\u001B[0m \u001B[38;5;66;03m# si los arreglos no tienen la misma forma, entonces no se pueden sumar\u001B[39;00m\n\u001B[0;32m      3\u001B[0m arr3\u001B[38;5;241m=\u001B[39m np\u001B[38;5;241m.\u001B[39marray([\u001B[38;5;241m9\u001B[39m, \u001B[38;5;241m10\u001B[39m])\n\u001B[1;32m----> 4\u001B[0m \u001B[43marr2\u001B[49m\u001B[43m \u001B[49m\u001B[38;5;241;43m+\u001B[39;49m\u001B[43m \u001B[49m\u001B[43marr3\u001B[49m \u001B[38;5;66;03m## sale error\u001B[39;00m\n",
      "\u001B[1;31mValueError\u001B[0m: operands could not be broadcast together with shapes (4,) (2,) "
     ]
    }
   ],
   "execution_count": 35
  },
  {
   "metadata": {},
   "cell_type": "markdown",
   "source": "## Resta",
   "id": "9bb53be92f5f88eb"
  },
  {
   "metadata": {
    "ExecuteTime": {
     "end_time": "2024-09-23T03:08:59.586375Z",
     "start_time": "2024-09-23T03:08:59.456619Z"
    }
   },
   "cell_type": "code",
   "source": "arr1, arr2",
   "id": "e768672a6f23ceb3",
   "outputs": [
    {
     "data": {
      "text/plain": [
       "(array([1, 2, 3, 4]), array([5, 6, 7, 8]))"
      ]
     },
     "execution_count": 36,
     "metadata": {},
     "output_type": "execute_result"
    }
   ],
   "execution_count": 36
  },
  {
   "metadata": {
    "ExecuteTime": {
     "end_time": "2024-09-23T03:09:21.106278Z",
     "start_time": "2024-09-23T03:09:20.968937Z"
    }
   },
   "cell_type": "code",
   "source": "arr1 - arr2",
   "id": "21b14462a3476166",
   "outputs": [
    {
     "data": {
      "text/plain": [
       "array([-4, -4, -4, -4])"
      ]
     },
     "execution_count": 38,
     "metadata": {},
     "output_type": "execute_result"
    }
   ],
   "execution_count": 38
  },
  {
   "metadata": {
    "ExecuteTime": {
     "end_time": "2024-09-23T03:09:37.068460Z",
     "start_time": "2024-09-23T03:09:37.017Z"
    }
   },
   "cell_type": "code",
   "source": "arr1-arr1",
   "id": "a79b4efda9937374",
   "outputs": [
    {
     "data": {
      "text/plain": [
       "array([0, 0, 0, 0])"
      ]
     },
     "execution_count": 41,
     "metadata": {},
     "output_type": "execute_result"
    }
   ],
   "execution_count": 41
  },
  {
   "metadata": {},
   "cell_type": "markdown",
   "source": "## producto",
   "id": "1f43231010b17e01"
  },
  {
   "metadata": {
    "ExecuteTime": {
     "end_time": "2024-09-23T03:11:50.014143Z",
     "start_time": "2024-09-23T03:11:49.891415Z"
    }
   },
   "cell_type": "code",
   "source": [
    "arr1= np.array([1, 2, 3, 4])\n",
    "arr2= np.array([2, 3, 4, 5])\n",
    "\n",
    "# los multiplicamos\n",
    "arr1*arr2"
   ],
   "id": "e08e4be61b3e0ac8",
   "outputs": [
    {
     "data": {
      "text/plain": [
       "array([ 2,  6, 12, 20])"
      ]
     },
     "execution_count": 46,
     "metadata": {},
     "output_type": "execute_result"
    }
   ],
   "execution_count": 46
  },
  {
   "metadata": {},
   "cell_type": "markdown",
   "source": "",
   "id": "a2b9629070f3ffa5"
  },
  {
   "metadata": {
    "ExecuteTime": {
     "end_time": "2024-09-23T03:12:26.133397Z",
     "start_time": "2024-09-23T03:12:26.073527Z"
    }
   },
   "cell_type": "code",
   "source": [
    "# multiplicar un array por un número\n",
    "arr1*10"
   ],
   "id": "f3d46bf634f0e5e3",
   "outputs": [
    {
     "data": {
      "text/plain": [
       "array([10, 20, 30, 40])"
      ]
     },
     "execution_count": 48,
     "metadata": {},
     "output_type": "execute_result"
    }
   ],
   "execution_count": 48
  },
  {
   "metadata": {
    "ExecuteTime": {
     "end_time": "2024-09-23T03:12:36.891036Z",
     "start_time": "2024-09-23T03:12:36.821544Z"
    }
   },
   "cell_type": "code",
   "source": "np.array(10)",
   "id": "c084854932243ae1",
   "outputs": [
    {
     "data": {
      "text/plain": [
       "array(10)"
      ]
     },
     "execution_count": 50,
     "metadata": {},
     "output_type": "execute_result"
    }
   ],
   "execution_count": 50
  },
  {
   "metadata": {
    "ExecuteTime": {
     "end_time": "2024-09-23T03:12:41.947258Z",
     "start_time": "2024-09-23T03:12:41.896073Z"
    }
   },
   "cell_type": "code",
   "source": "arr1",
   "id": "9740c54c700fd82b",
   "outputs": [
    {
     "data": {
      "text/plain": [
       "array([1, 2, 3, 4])"
      ]
     },
     "execution_count": 51,
     "metadata": {},
     "output_type": "execute_result"
    }
   ],
   "execution_count": 51
  },
  {
   "metadata": {
    "ExecuteTime": {
     "end_time": "2024-09-23T03:12:58.027724Z",
     "start_time": "2024-09-23T03:12:58.009049Z"
    }
   },
   "cell_type": "code",
   "source": "arr1*np.array(10)",
   "id": "e406f25b0682dbad",
   "outputs": [
    {
     "data": {
      "text/plain": [
       "array([10, 20, 30, 40])"
      ]
     },
     "execution_count": 53,
     "metadata": {},
     "output_type": "execute_result"
    }
   ],
   "execution_count": 53
  },
  {
   "metadata": {},
   "cell_type": "markdown",
   "source": "## división",
   "id": "2c24c2fde4581cfb"
  },
  {
   "metadata": {
    "ExecuteTime": {
     "end_time": "2024-09-23T03:13:24.725179Z",
     "start_time": "2024-09-23T03:13:24.693008Z"
    }
   },
   "cell_type": "code",
   "source": "arr1, arr2",
   "id": "b856cb3c37f11d26",
   "outputs": [
    {
     "data": {
      "text/plain": [
       "(array([1, 2, 3, 4]), array([2, 3, 4, 5]))"
      ]
     },
     "execution_count": 54,
     "metadata": {},
     "output_type": "execute_result"
    }
   ],
   "execution_count": 54
  },
  {
   "metadata": {
    "ExecuteTime": {
     "end_time": "2024-09-23T03:13:33.032956Z",
     "start_time": "2024-09-23T03:13:32.859624Z"
    }
   },
   "cell_type": "code",
   "source": "arr1/arr2",
   "id": "c3eeb4a639ea3f7d",
   "outputs": [
    {
     "data": {
      "text/plain": [
       "array([0.5       , 0.66666667, 0.75      , 0.8       ])"
      ]
     },
     "execution_count": 55,
     "metadata": {},
     "output_type": "execute_result"
    }
   ],
   "execution_count": 55
  },
  {
   "metadata": {
    "ExecuteTime": {
     "end_time": "2024-09-23T03:14:02.897550Z",
     "start_time": "2024-09-23T03:14:02.834922Z"
    }
   },
   "cell_type": "code",
   "source": [
    "# se puede obtener el arreglo inverso dividiendo entre 1 el array\n",
    "arr1"
   ],
   "id": "63d8715fd7dbab5a",
   "outputs": [
    {
     "data": {
      "text/plain": [
       "array([1, 2, 3, 4])"
      ]
     },
     "execution_count": 56,
     "metadata": {},
     "output_type": "execute_result"
    }
   ],
   "execution_count": 56
  },
  {
   "metadata": {
    "ExecuteTime": {
     "end_time": "2024-09-23T03:14:08.980713Z",
     "start_time": "2024-09-23T03:14:08.952427Z"
    }
   },
   "cell_type": "code",
   "source": "1/arr1",
   "id": "3c741b847051be24",
   "outputs": [
    {
     "data": {
      "text/plain": [
       "array([1.        , 0.5       , 0.33333333, 0.25      ])"
      ]
     },
     "execution_count": 57,
     "metadata": {},
     "output_type": "execute_result"
    }
   ],
   "execution_count": 57
  },
  {
   "metadata": {
    "ExecuteTime": {
     "end_time": "2024-09-23T03:14:54.810173Z",
     "start_time": "2024-09-23T03:14:54.630229Z"
    }
   },
   "cell_type": "code",
   "source": [
    "# sacar la inversa es igual a sacar la potencia -1\n",
    "## peeeero, no se puede hacer jejeje\n",
    "arr1 ** -1"
   ],
   "id": "249d9a934fcf71dd",
   "outputs": [
    {
     "ename": "ValueError",
     "evalue": "Integers to negative integer powers are not allowed.",
     "output_type": "error",
     "traceback": [
      "\u001B[1;31m---------------------------------------------------------------------------\u001B[0m",
      "\u001B[1;31mValueError\u001B[0m                                Traceback (most recent call last)",
      "Cell \u001B[1;32mIn[59], line 3\u001B[0m\n\u001B[0;32m      1\u001B[0m \u001B[38;5;66;03m# sacar la inversa es igual a sacar la potencia -1\u001B[39;00m\n\u001B[0;32m      2\u001B[0m \u001B[38;5;66;03m## peeeero, no se puede hacer jejeje\u001B[39;00m\n\u001B[1;32m----> 3\u001B[0m \u001B[43marr1\u001B[49m\u001B[43m \u001B[49m\u001B[38;5;241;43m*\u001B[39;49m\u001B[38;5;241;43m*\u001B[39;49m\u001B[43m \u001B[49m\u001B[38;5;241;43m-\u001B[39;49m\u001B[38;5;241;43m1\u001B[39;49m\n",
      "\u001B[1;31mValueError\u001B[0m: Integers to negative integer powers are not allowed."
     ]
    }
   ],
   "execution_count": 59
  },
  {
   "metadata": {
    "ExecuteTime": {
     "end_time": "2024-09-23T03:15:10.368872Z",
     "start_time": "2024-09-23T03:15:10.314249Z"
    }
   },
   "cell_type": "code",
   "source": "type(1.)",
   "id": "a9f2be579d8c0f26",
   "outputs": [
    {
     "data": {
      "text/plain": [
       "float"
      ]
     },
     "execution_count": 61,
     "metadata": {},
     "output_type": "execute_result"
    }
   ],
   "execution_count": 61
  },
  {
   "metadata": {},
   "cell_type": "markdown",
   "source": "## potencia",
   "id": "aa7d368e53ca5f87"
  },
  {
   "metadata": {
    "ExecuteTime": {
     "end_time": "2024-09-23T03:15:28.488155Z",
     "start_time": "2024-09-23T03:15:28.465073Z"
    }
   },
   "cell_type": "code",
   "source": "arr1, arr2",
   "id": "78c28ff9ab717ff2",
   "outputs": [
    {
     "data": {
      "text/plain": [
       "(array([1, 2, 3, 4]), array([2, 3, 4, 5]))"
      ]
     },
     "execution_count": 62,
     "metadata": {},
     "output_type": "execute_result"
    }
   ],
   "execution_count": 62
  },
  {
   "metadata": {
    "ExecuteTime": {
     "end_time": "2024-09-23T03:18:03.846830Z",
     "start_time": "2024-09-23T03:18:03.656204Z"
    }
   },
   "cell_type": "code",
   "source": "arr1**arr2",
   "id": "b479205d0b45590b",
   "outputs": [
    {
     "data": {
      "text/plain": [
       "array([   1,    8,   81, 1024])"
      ]
     },
     "execution_count": 63,
     "metadata": {},
     "output_type": "execute_result"
    }
   ],
   "execution_count": 63
  },
  {
   "metadata": {},
   "cell_type": "markdown",
   "source": "## operaciones en arrays 2D",
   "id": "e11ffeb7d02526d3"
  },
  {
   "metadata": {
    "ExecuteTime": {
     "end_time": "2024-09-23T03:29:56.218815Z",
     "start_time": "2024-09-23T03:29:56.186113Z"
    }
   },
   "cell_type": "code",
   "source": [
    "arr5 = np.array([[1, 2], [3, 4]])\n",
    "arr6 = np.array([[5, 6], [7, 8]])\n",
    "\n",
    "arr5, arr6"
   ],
   "id": "ee90084cb33d70b2",
   "outputs": [
    {
     "data": {
      "text/plain": [
       "(array([[1, 2],\n",
       "        [3, 4]]),\n",
       " array([[5, 6],\n",
       "        [7, 8]]))"
      ]
     },
     "execution_count": 65,
     "metadata": {},
     "output_type": "execute_result"
    }
   ],
   "execution_count": 65
  },
  {
   "metadata": {
    "ExecuteTime": {
     "end_time": "2024-09-23T03:30:08.092191Z",
     "start_time": "2024-09-23T03:30:08.057224Z"
    }
   },
   "cell_type": "code",
   "source": "arr5 + arr6",
   "id": "548bc5f8d7b0df49",
   "outputs": [
    {
     "data": {
      "text/plain": [
       "array([[ 6,  8],\n",
       "       [10, 12]])"
      ]
     },
     "execution_count": 66,
     "metadata": {},
     "output_type": "execute_result"
    }
   ],
   "execution_count": 66
  },
  {
   "metadata": {
    "ExecuteTime": {
     "end_time": "2024-09-23T03:30:30.741170Z",
     "start_time": "2024-09-23T03:30:30.704021Z"
    }
   },
   "cell_type": "code",
   "source": "arr5*3",
   "id": "d41340c9fac8bcc0",
   "outputs": [
    {
     "data": {
      "text/plain": [
       "array([[ 3,  6],\n",
       "       [ 9, 12]])"
      ]
     },
     "execution_count": 68,
     "metadata": {},
     "output_type": "execute_result"
    }
   ],
   "execution_count": 68
  },
  {
   "metadata": {
    "ExecuteTime": {
     "end_time": "2024-09-23T03:30:36.720100Z",
     "start_time": "2024-09-23T03:30:36.653917Z"
    }
   },
   "cell_type": "code",
   "source": "arr5",
   "id": "6ed5deb172b3ce88",
   "outputs": [
    {
     "data": {
      "text/plain": [
       "array([[1, 2],\n",
       "       [3, 4]])"
      ]
     },
     "execution_count": 69,
     "metadata": {},
     "output_type": "execute_result"
    }
   ],
   "execution_count": 69
  },
  {
   "metadata": {
    "ExecuteTime": {
     "end_time": "2024-09-23T03:30:52.883522Z",
     "start_time": "2024-09-23T03:30:52.806080Z"
    }
   },
   "cell_type": "code",
   "source": [
    "vec = np.array([5, 10])\n",
    "vec"
   ],
   "id": "ea459e21342db8d6",
   "outputs": [
    {
     "data": {
      "text/plain": [
       "array([ 5, 10])"
      ]
     },
     "execution_count": 70,
     "metadata": {},
     "output_type": "execute_result"
    }
   ],
   "execution_count": 70
  },
  {
   "metadata": {
    "ExecuteTime": {
     "end_time": "2024-09-23T03:36:49.905071Z",
     "start_time": "2024-09-23T03:36:49.859876Z"
    }
   },
   "cell_type": "code",
   "source": "'dimension', vec.ndim, 'forma:', vec.shape",
   "id": "6ff6dbca4a7879c2",
   "outputs": [
    {
     "data": {
      "text/plain": [
       "('dimension', 1, 'forma:', (2,))"
      ]
     },
     "execution_count": 71,
     "metadata": {},
     "output_type": "execute_result"
    }
   ],
   "execution_count": 71
  },
  {
   "metadata": {
    "ExecuteTime": {
     "end_time": "2024-09-23T03:37:02.889464Z",
     "start_time": "2024-09-23T03:37:02.859768Z"
    }
   },
   "cell_type": "code",
   "source": "vec.transpose()",
   "id": "34d95262ddf39818",
   "outputs": [
    {
     "data": {
      "text/plain": [
       "array([ 5, 10])"
      ]
     },
     "execution_count": 73,
     "metadata": {},
     "output_type": "execute_result"
    }
   ],
   "execution_count": 73
  },
  {
   "metadata": {
    "ExecuteTime": {
     "end_time": "2024-09-23T03:37:51.535625Z",
     "start_time": "2024-09-23T03:37:51.499196Z"
    }
   },
   "cell_type": "code",
   "source": "arr5*(vec.T)",
   "id": "a0323e9e7f9bf5a",
   "outputs": [
    {
     "data": {
      "text/plain": [
       "array([[ 5, 20],\n",
       "       [15, 40]])"
      ]
     },
     "execution_count": 75,
     "metadata": {},
     "output_type": "execute_result"
    }
   ],
   "execution_count": 75
  },
  {
   "metadata": {
    "ExecuteTime": {
     "end_time": "2024-09-23T03:38:06.410220Z",
     "start_time": "2024-09-23T03:38:06.216413Z"
    }
   },
   "cell_type": "code",
   "source": "arr5 @ (vec.T)",
   "id": "331efc59e559240e",
   "outputs": [
    {
     "data": {
      "text/plain": [
       "array([25, 55])"
      ]
     },
     "execution_count": 76,
     "metadata": {},
     "output_type": "execute_result"
    }
   ],
   "execution_count": 76
  },
  {
   "metadata": {
    "ExecuteTime": {
     "end_time": "2024-09-23T03:38:25.266591Z",
     "start_time": "2024-09-23T03:38:25.088482Z"
    }
   },
   "cell_type": "code",
   "source": "arr5 * np.array([5, 10, 15])",
   "id": "20c298d00c748c67",
   "outputs": [
    {
     "ename": "ValueError",
     "evalue": "operands could not be broadcast together with shapes (2,2) (3,) ",
     "output_type": "error",
     "traceback": [
      "\u001B[1;31m---------------------------------------------------------------------------\u001B[0m",
      "\u001B[1;31mValueError\u001B[0m                                Traceback (most recent call last)",
      "Cell \u001B[1;32mIn[77], line 1\u001B[0m\n\u001B[1;32m----> 1\u001B[0m \u001B[43marr5\u001B[49m\u001B[43m \u001B[49m\u001B[38;5;241;43m*\u001B[39;49m\u001B[43m \u001B[49m\u001B[43mnp\u001B[49m\u001B[38;5;241;43m.\u001B[39;49m\u001B[43marray\u001B[49m\u001B[43m(\u001B[49m\u001B[43m[\u001B[49m\u001B[38;5;241;43m5\u001B[39;49m\u001B[43m,\u001B[49m\u001B[43m \u001B[49m\u001B[38;5;241;43m10\u001B[39;49m\u001B[43m,\u001B[49m\u001B[43m \u001B[49m\u001B[38;5;241;43m15\u001B[39;49m\u001B[43m]\u001B[49m\u001B[43m)\u001B[49m\n",
      "\u001B[1;31mValueError\u001B[0m: operands could not be broadcast together with shapes (2,2) (3,) "
     ]
    }
   ],
   "execution_count": 77
  },
  {
   "metadata": {},
   "cell_type": "code",
   "outputs": [],
   "execution_count": null,
   "source": "",
   "id": "9eba713fb92e9a7"
  }
 ],
 "metadata": {
  "kernelspec": {
   "display_name": "Python 3",
   "language": "python",
   "name": "python3"
  },
  "language_info": {
   "codemirror_mode": {
    "name": "ipython",
    "version": 2
   },
   "file_extension": ".py",
   "mimetype": "text/x-python",
   "name": "python",
   "nbconvert_exporter": "python",
   "pygments_lexer": "ipython2",
   "version": "2.7.6"
  }
 },
 "nbformat": 4,
 "nbformat_minor": 5
}
